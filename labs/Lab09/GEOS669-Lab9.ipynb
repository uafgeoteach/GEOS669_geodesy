{
 "cells": [
  {
   "cell_type": "markdown",
   "metadata": {},
   "source": [
    "<center><font size=6><b>GEOS 669 Geodetic Methods and Modeling</b></font></center>"
   ]
  },
  {
   "cell_type": "markdown",
   "metadata": {},
   "source": [
    "# Lab 9: Modeling - Plate Motion\n",
    "\n",
    "Today you will:\n",
    "\n",
    " * plot contiguous US velocities in ITRF reference frame\n",
    " * determine the Euler Pole for the North American Plate for a subset of these sites\n",
    " * forward model the plate velocities at all contiguous US sites and remove them from the ITRF velocities to determine site motion with respect to stable North America\n",
    " * Bonus: compare to official NOAM velocities"
   ]
  },
  {
   "cell_type": "code",
   "execution_count": null,
   "metadata": {},
   "outputs": [],
   "source": [
    "#SETUP - install necessary packages\n",
    "!conda install -y gmt pygmt -c conda-forge"
   ]
  },
  {
   "cell_type": "code",
   "execution_count": null,
   "metadata": {},
   "outputs": [],
   "source": [
    "#Download the most recent site velocities provided by UNAVCO\n",
    "!wget https://data.unavco.org/archive/gnss/products/velocity/cwu.final_igs14.vel"
   ]
  },
  {
   "cell_type": "markdown",
   "metadata": {},
   "source": [
    "Now import some needed packages. We also define a function that plots velocities on a map using pygmt (example of its use shown further below.)"
   ]
  },
  {
   "cell_type": "code",
   "execution_count": null,
   "metadata": {},
   "outputs": [],
   "source": [
    "import numpy as np\n",
    "import pandas as pd\n",
    "import pygmt\n",
    "import matplotlib.pyplot as plt\n",
    "\n",
    "#simple routine to plot the horizontal (and optional vertical) velocity fields\n",
    "#using pygmt. returns the figure handle, which means that more pygmt calls\n",
    "#can be issues on that, or the result can be plotted / saved.\n",
    "def plot_velocities(elong, nlat, evel, nvel, uvel=None, reg=\"-135/-110/20/55\"):\n",
    "    \n",
    "    pygmt.config(MAP_FRAME_TYPE=\"plain\")\n",
    "\n",
    "    vec_spec = \"e90/0.95/10\"\n",
    "    \n",
    "    fig = pygmt.Figure()\n",
    "    \n",
    "    fig.coast( \n",
    "        region=reg,\n",
    "        projection=\"M21c\",\n",
    "        land=\"lightgray\",\n",
    "        water=\"white\",\n",
    "        shorelines=\"1/0.5p\",\n",
    "        frame=True\n",
    "    )\n",
    "\n",
    "    df = pd.DataFrame(\n",
    "        data={\n",
    "            \"x\": elong.flatten(),\n",
    "            \"y\": nlat.flatten(),\n",
    "            \"east_velocity\":  evel.flatten(),\n",
    "            \"north_velocity\": nvel.flatten(),\n",
    "        }\n",
    "    )\n",
    "    \n",
    "    fig.velo(\n",
    "        data=df,\n",
    "        pen=\"0.2p,red\",\n",
    "        line=True,\n",
    "        spec=vec_spec,\n",
    "        vector=\"0.3c+p1p+e+gred\",\n",
    "        frame=True\n",
    "    )\n",
    "    \n",
    "    #plot optional vertical velocities\n",
    "    if uvel is not None:\n",
    "        df = pd.DataFrame(\n",
    "            data={\n",
    "                \"x\": elong,\n",
    "                \"y\": nlat,\n",
    "                \"east_velocity\":  uvel.flatten()*0,\n",
    "                \"north_velocity\": uvel.flatten(),\n",
    "            }\n",
    "        )\n",
    "    \n",
    "        fig.velo(\n",
    "            data=df,\n",
    "            pen=\"0.2p,blue\",\n",
    "            line=True,\n",
    "            spec=vec_spec,\n",
    "            vector=\"0.3c+p1p+e+gblue\",\n",
    "            frame=True\n",
    "        )\n",
    "\n",
    "    \n",
    "    #station locations\n",
    "    fig.plot(x=elon, y=nlat, style='c0.04i', color='black', pen='0.4p,white');\n",
    "    \n",
    "    return fig\n"
   ]
  },
  {
   "cell_type": "markdown",
   "metadata": {},
   "source": [
    "# 1) Load, Subset and Plot Data\n",
    "\n",
    "Now, we load the data into a pandas dataframe. We're forming a subset for just Alaska stations and use the most recent velocity observations (there are some duplicate stations in the record that give velocity observations for different time frames). Make sure to open the data file directly using the JupyterHub file browser; the header information will come in handy further down."
   ]
  },
  {
   "cell_type": "code",
   "execution_count": null,
   "metadata": {},
   "outputs": [],
   "source": [
    "#load and prepare velocity data; the first 35 lines are header information and use line 35 to name the columns.\n",
    "cwu = pd.read_csv('cwu.final_igs14.vel', header=35, dtype=None, sep='\\s+')\n",
    "\n",
    "#create a roughly contiguous US subset: pick recent data to avoid station duplication, and pick a reasonable lat lon window\n",
    "noam  = cwu[(cwu['last_epoch']>20200000000000) & (cwu['Ref_Nlat']>26) & (cwu['Ref_Nlat']<50) & (cwu['Ref_Elong']<300) & (cwu['Ref_Elong']>220)]\n",
    "\n",
    "#make sure to reset the index to ensure the counting works well\n",
    "noam = noam.reset_index()\n",
    "\n",
    "#get the length of the data set\n",
    "l    = noam.shape[0]\n",
    "\n",
    "#output the dataframe to see what's in there \n",
    "#(if you want to see the full header information \n",
    "#open the file directly using the JupyterHub file browser)\n",
    "noam"
   ]
  },
  {
   "cell_type": "markdown",
   "metadata": {},
   "source": [
    "Now that the data are loaded into a pandas data frame, we can plot them. "
   ]
  },
  {
   "cell_type": "code",
   "execution_count": null,
   "metadata": {},
   "outputs": [],
   "source": [
    "#retrieve local velocities and lat lon for plotting. \n",
    "#make sure these are column vectors by reshaping.\n",
    "evel = noam[\"dE/dt\"].values\n",
    "nvel = noam[\"dN/dt\"].values\n",
    "uvel = noam[\"dU/dt\"].values\n",
    "\n",
    "nlat = noam[\"Ref_Nlat\"].values\n",
    "elon = noam[\"Ref_Elong\"].values\n",
    "\n",
    "#this uses the function we defined above. It returns the figure handle,\n",
    "#so we still have to display it (could save it, too, or otherwise manipulate)\n",
    "f = plot_velocities(elon, nlat, evel, nvel, uvel=uvel, reg=\"-135/-66/25/50\")\n",
    "f.show()\n"
   ]
  },
  {
   "cell_type": "markdown",
   "metadata": {},
   "source": [
    "# 2) Estimate Euler Pole\n",
    "\n",
    "From the image above, select a latitude-longitude box that is likely to enclose stations with mostly plate motion driven rotation only. Note that you have the code to get that subset already given above for a larger lat-lon box, so you need to only copy this down here and change the values.\n",
    "\n",
    "Now, determine the Euler Pole from these data! Note that you shouldn't use the X,Y,Z velocities given in the file, but generate **new** X,Y,Z velocities from the local east and north velocities. You do that by rotating the east and north velocities into XYZ:\n",
    "\n",
    "$$\n",
    "\\begin{bmatrix}\n",
    "               v_n \\\\\n",
    "               v_e\n",
    "        \\end{bmatrix} = \\begin{bmatrix}\n",
    "                            -sin(\\lambda)cos(\\phi) & -sin(\\lambda)sin(\\phi) & cos(\\lambda) \\\\\n",
    "                            -sin(\\phi)             &  cos(\\phi)             & 0\n",
    "             \\end{bmatrix}  \\begin{bmatrix}\n",
    "                         v_x \\\\\n",
    "                         v_y \\\\\n",
    "                         v_z\n",
    "             \\end{bmatrix}\n",
    "$$\n",
    "\n",
    "where $\\lambda, \\phi$ are the station's latitude and longitude (in radians!), respectively. If you use the XYZ velocities given in the file directly, you bias the latitude of the Euler Pole.\n",
    "\n",
    "Performing the rotation of $v_{en}$ into $v_{xyz}$ is probably most straight forward by doing this station by station and assembling three arrays `dXdt`, `dYdt`, and `dZdt` along the way that hold all the station velocities. Once you have that - extract the X, Y, Z coordinates (check for their units in the header information of the file!) for each station (three long arrays with ALL the coordinates will do).\n",
    "\n",
    "Remember that together\n",
    "\n",
    "$$\n",
    "\\begin{bmatrix}\n",
    "               v_x \\\\\n",
    "               v_y \\\\\n",
    "               v_z\n",
    "        \\end{bmatrix} = \\begin{bmatrix}\n",
    "                             0 &  Z & -Y \\\\\n",
    "                            -Z &  0 &  X \\\\ \n",
    "                             Y & -X &  0 \n",
    "             \\end{bmatrix}  \\begin{bmatrix}\n",
    "                         \\omega_x \\\\\n",
    "                         \\omega_y \\\\\n",
    "                         \\omega_z\n",
    "             \\end{bmatrix}\n",
    "$$\n",
    "\n",
    "As you assemble $G$ and $d$, it's important to think vectorized, as we've done in prior labs. Once you have those components put together, it's again a simple call to `np.linalg.lstsq` to get the plate angular velocity vector $\\omega$.\n",
    "\n",
    " * Print out your solution for the plate angular velocity. What's its unit?\n",
    " * Print the plate angular in units of deg/Myr.\n",
    " * Calculate the Euler Pole latitude (deg), longitude (deg) and angular speed (deg/Myr) from the plate angular velocity in the **original units (not in deg/Myr)** but give its values in the units specified in parentheses."
   ]
  },
  {
   "cell_type": "code",
   "execution_count": null,
   "metadata": {},
   "outputs": [],
   "source": [
    "#write your code here:"
   ]
  },
  {
   "cell_type": "markdown",
   "metadata": {},
   "source": [
    "In the code below, add the Euler Pole to the plot of the data you've been given above:\n",
    "\n",
    " * uncomment all three lines\n",
    " * add reasonable values for W, E, S, N into the `reg` parameter to include the data and the Euler Pole in the map\n",
    " * either make sure your Euler Pole longitude and latitude variables are called `euler_phi` and `euler_lam`, respectively, or replace those strings with your values or variable names\n",
    " * run the cell.\n",
    " \n",
    "**Does your Euler Pole location seem reasonable? How about the rotation speed (assuming right-hand-rule / counter clockwise is positive)? How does your North America (NOAM) Pole compare to published ones?**"
   ]
  },
  {
   "cell_type": "code",
   "execution_count": null,
   "metadata": {},
   "outputs": [],
   "source": [
    "#f = plot_velocities(elon, nlat, evel, nvel, reg=\"W/E/S/N\")\n",
    "#f.plot(x=euler_phi, y=euler_lam, style='c0.15i', color='red', pen='0.4p,white');\n",
    "f.show()"
   ]
  },
  {
   "cell_type": "markdown",
   "metadata": {},
   "source": [
    "# 3) Remove Plate Velocity\n",
    "\n",
    "Now for the fun part: Remove the plate velocity you predict for North America from all the horizontal data in the contiguous US. I am giving you below a data frame `noam` again using the original lat-lon box, from this I pull for you:\n",
    "\n",
    " * the lat lon station locations\n",
    " * the local east and north velocities\n",
    " * the X,Y,Z station locations\n",
    " \n",
    "In the block that's commented out for your code:\n",
    "\n",
    " * set up the larger $G$ matrix (as before)\n",
    " * solve the forward problem with your calculated $\\omega$ (in the same units as you've gotten out of the inversion before!)\n",
    " \n",
    "Now you have a very long velocity vector that contains your plate motion predictions in ITRF reference frame, one third is X, one third is Y, one third is Z velocity; it might make sense to separate that vector into three individual vectors.\n",
    "\n",
    "Almost there. We've got to do the rotation from ITRF into NEU now. You have all the code for that in a cell above and it will require only minimal adjustments, instead of solving for $v_{xyz}$ you are interested in $v_{ne}$, so you don't have to use the transpose / inverse of the rotation matrix. Throughout this loop over all stations and individual rotation, you will now assemble the east and north velocity vectors, which contain the plate velocity at each site.\n",
    "\n",
    "Now, all you need to do is subtract the local plate velocities from the local ITRF velocities and you've got the motion of 1700+ sites in a North American reference frame. The plotting code for that is given. You've got to make sure you'll give it the correct variables.\n",
    "\n",
    "**Interpret the velocities seen along the US West Coast! Are those what you would expect from what we talked about in class?**"
   ]
  },
  {
   "cell_type": "code",
   "execution_count": null,
   "metadata": {},
   "outputs": [],
   "source": [
    "noam = cwu[(cwu['last_epoch']>20200000000000) & (cwu['Ref_Nlat']>26) & (cwu['Ref_Nlat']<50) & (cwu['Ref_Elong']<300) & (cwu['Ref_Elong']>220)]\n",
    "l    = noam.shape[0]\n",
    "\n",
    "#station longitudes and latitudes\n",
    "elon = noam[\"Ref_Elong\"].values\n",
    "nlat = noam[\"Ref_Nlat\"].values\n",
    "\n",
    "#local station velocities\n",
    "evel_all = noam[\"dE/dt\"].values.reshape((l,1))\n",
    "nvel_all = noam[\"dN/dt\"].values.reshape((l,1))\n",
    "\n",
    "#station XYZ coordinates\n",
    "X    = noam[\"Ref_X\"].values.reshape((l,1))\n",
    "Y    = noam[\"Ref_Y\"].values.reshape((l,1))\n",
    "Z    = noam[\"Ref_Z\"].values.reshape((l,1))\n",
    "\n",
    "###\n",
    "### YOUR CODE GOES HERE\n",
    "###\n",
    "\n",
    "#plot for all of US\n",
    "f = plot_velocities(elon, nlat, evel, nvel, reg=\"-135/-66/25/50\")\n",
    "f.show()\n",
    "\n",
    "#plot for west coast\n",
    "f = plot_velocities(elon, nlat, evel, nvel, reg=\"-135/-110/25/50\")\n",
    "f.show()\n"
   ]
  },
  {
   "cell_type": "markdown",
   "metadata": {
    "slideshow": {
     "slide_type": "subslide"
    }
   },
   "source": [
    "# BONUS\n",
    "\n",
    "Download the velocity field that's given in North American reference frame from UNAVCO. Retrieve the east and north velocities for the contiguous US stations and subtract your NOAM velocities from them. What do the residuals look like and why are they likley not zero?"
   ]
  },
  {
   "cell_type": "code",
   "execution_count": null,
   "metadata": {},
   "outputs": [],
   "source": [
    "#get the file if you haven't yet\n",
    "\n",
    "!wget https://data.unavco.org/archive/gnss/products/velocity/cwu.final_nam14.vel\n",
    "    \n",
    "## YOUR CODE GOES HERE"
   ]
  },
  {
   "cell_type": "code",
   "execution_count": null,
   "metadata": {},
   "outputs": [],
   "source": []
  }
 ],
 "metadata": {
  "celltoolbar": "Tags",
  "kernelspec": {
   "display_name": "insar_analysis [conda env:.local-insar_analysis]",
   "language": "python",
   "name": "conda-env-.local-insar_analysis-py"
  },
  "language_info": {
   "codemirror_mode": {
    "name": "ipython",
    "version": 3
   },
   "file_extension": ".py",
   "mimetype": "text/x-python",
   "name": "python",
   "nbconvert_exporter": "python",
   "pygments_lexer": "ipython3",
   "version": "3.8.12"
  }
 },
 "nbformat": 4,
 "nbformat_minor": 4
}
