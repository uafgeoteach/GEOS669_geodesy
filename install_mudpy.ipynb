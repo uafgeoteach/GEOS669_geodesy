{
 "cells": [
  {
   "cell_type": "markdown",
   "metadata": {},
   "source": [
    "# Installing MudPy to OpenSARlab\n",
    "\n",
    "This is a temporary installation (all that OSL currently allows) of [MudPy](https://github.com/dmelgarm/MudPy/wiki/), a code to forward model and invert for parameters of dislocation sources from displacements. To be able to do this, we need to create a new conda environment, and then install the MudPy package (and related packages) into this. Execute the code cell below and be a bit patient."
   ]
  },
  {
   "cell_type": "code",
   "execution_count": null,
   "metadata": {},
   "outputs": [],
   "source": [
    "#create new environment\n",
    "!conda create -y -n mudpy\n",
    "\n",
    "#initialize all conda shells\n",
    "!conda init --all\n",
    "\n",
    "#install packages: obspy & MPI4py & gfortran & make ...\n",
    "!conda install -y -n mudpy obspy numba mpi4py gfortran make pandas pyproj -c conda-forge\n"
   ]
  },
  {
   "cell_type": "markdown",
   "metadata": {},
   "source": [
    "# Setup\n",
    "\n",
    "To run the setup, we first need to restart with the new mudpy kernel. If the cell below doesn't work, reload this notebook, and hand-select the kernel from the Kernel menu."
   ]
  },
  {
   "cell_type": "code",
   "execution_count": null,
   "metadata": {},
   "outputs": [],
   "source": [
    "%%javascript\n",
    "Jupyter.notebook.session.restart({kernel_name: 'conda-env-.local-mudpy-py'})"
   ]
  },
  {
   "cell_type": "markdown",
   "metadata": {},
   "source": [
    "### Clone and set up MudPy\n",
    "\n",
    "This all comes straight from the website. Note that the last lines permanently change your `.bashrc` file. You may have to remove this stuff from there if something goes awry."
   ]
  },
  {
   "cell_type": "code",
   "execution_count": null,
   "metadata": {},
   "outputs": [],
   "source": [
    "%%bash\n",
    "\n",
    "#activate the correct environment\n",
    "#conda activate mudpy\n",
    "\n",
    "#go home\n",
    "cd /home/jovyan\n",
    "\n",
    "#clone MudPy\n",
    "if [[ `ls $HOME/MudPy | wc -l` == 0 ]]; then \n",
    "    git clone https://github.com/dmelgarm/MudPy.git;\n",
    "fi\n",
    "\n",
    "#build fk Green's Functions\n",
    "cd MudPy/src/fk\n",
    "make clean\n",
    "make all\n",
    "\n",
    "#add to path\n",
    "if [[ `grep MudPy $HOME/.bashrc | wc -l` == 0 ]]; then \n",
    "    echo \"#adding MudPy\" >> $HOME/.bashrc\n",
    "    echo \"export PATH=\"`pwd`':$PATH' >> $HOME/.bashrc; \n",
    "    echo \"export MUDPY=/home/jovyan/MudPy\" >> $HOME/.bashrc; \n",
    "    echo \"export PYTHONPATH=/home/jovyan/MudPy/src/python\" >> $HOME/.bashrc; \n",
    "\n",
    "    #useful alias to get rid of those damn MAC linebreaks\n",
    "    echo alias r2n=\\\"sed -i.old \\'s/\\r/\\n/g\\'\\\" >> $HOME/.bashrc;\n",
    "fi\n",
    "\n",
    "\n",
    "#EOF"
   ]
  },
  {
   "cell_type": "markdown",
   "metadata": {},
   "source": [
    "### Testing\n",
    "\n",
    "This should set the new environment by sourcing the `.bashrc` file and then just produce help output from the `fk.pl` and `syn` programs. If there's an error message, open a terminal window, activate the new environment and test in there:\n",
    "\n",
    "```\n",
    "    conda activate mudpy\n",
    "    fk.pl\n",
    "    syn\n",
    "```\n",
    "\n",
    "If it doesn't work, try installing on the command line using the respective commands above.\n"
   ]
  },
  {
   "cell_type": "code",
   "execution_count": null,
   "metadata": {},
   "outputs": [],
   "source": [
    "%%bash\n",
    "\n",
    "#test that is made it to the \n",
    "source ~/.bashrc;\n",
    "fk.pl\n",
    "syn\n"
   ]
  },
  {
   "cell_type": "markdown",
   "metadata": {},
   "source": [
    "This is a test that will only work after you've successfully run the [simple forward computation](https://github.com/dmelgarm/MudPy/wiki/A-simple-forward-computation) example. A couple of notes\n",
    "\n",
    "* couldn't get the parallel version for this example to run\n",
    "* needed to change the code for the sequential version."
   ]
  },
  {
   "cell_type": "code",
   "execution_count": 29,
   "metadata": {},
   "outputs": [
    {
     "data": {
      "image/png": "[encoded data removed]",
      "text/plain": [
       "<Figure size 432x288 with 1 Axes>"
      ]
     },
     "metadata": {
      "needs_background": "light"
     },
     "output_type": "display_data"
    }
   ],
   "source": [
    "from matplotlib import pyplot as plt\n",
    "from obspy import read\n",
    "\n",
    "st=read(u'/home/jovyan/MudPy/Slip_inv/Nepal_forward_test/output/waveforms/nepal/NAST.LYE.sac')\n",
    "plt.plot(st[0].times(),st[0].data)\n",
    "plt.show()\n"
   ]
  }
 ],
 "metadata": {
  "kernelspec": {
   "display_name": "Python [conda env:.local-mudpy]",
   "language": "python",
   "name": "conda-env-.local-mudpy-py"
  },
  "language_info": {
   "codemirror_mode": {
    "name": "ipython",
    "version": 3
   },
   "file_extension": ".py",
   "mimetype": "text/x-python",
   "name": "python",
   "nbconvert_exporter": "python",
   "pygments_lexer": "ipython3",
   "version": "3.9.7"
  }
 },
 "nbformat": 4,
 "nbformat_minor": 4
}
