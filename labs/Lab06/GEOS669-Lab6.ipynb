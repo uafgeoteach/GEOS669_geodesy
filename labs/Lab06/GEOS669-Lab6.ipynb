{
 "cells": [
  {
   "cell_type": "markdown",
   "metadata": {},
   "source": [
    "<center><font size=6><b>GEOS 669 Geodetic Methods and Modeling</b></font></center>"
   ]
  },
  {
   "cell_type": "markdown",
   "metadata": {},
   "source": [
    "# Lab 6: InSAR Timeseries Analysis with HyP3 & MintPY\n"
   ]
  },
  {
   "cell_type": "markdown",
   "metadata": {},
   "source": [
    "**Assignment Due Date**: October 13th, 2021\n",
    "\n",
    "Your deliverable for this lab will be this notebook, with additional sections ** and images** as outlined below. Please rename the notebook from `GEOS669-Lab6.ipynb` to `<last_name>_GEOS669-Lab6.ipynb`. For example, I (Emily Graves) would rename the notebook to `Graves_GEOS669-Lab6.ipynb`. You can do this by clicking on the filename in the top-left corner of this window (similar to, e.g., Google Docs). Download the completed file and images by checking its box in the JupyterHub file browser and selecting \"Download\" from the menu that appears or in the document's \"File\" menu under \"Download as\". **Then submit a zip file with the notebook and images to Canvas under the Lab 6 assignment no later than 1pm October 13th**."
   ]
  },
  {
   "cell_type": "markdown",
   "metadata": {},
   "source": [
    "### Introduction\n",
    "\n",
    "Complete shift in gears now! We're moving from GPS processing into InSAR processing. The goal for today is to get you comfortable finding you way around the Alaska Satellite Facility's data portal, [Vertex](https://search.asf.alaska.edu/#/), using their free processing service, moving those data into opensarlab and performing a timeseries analysis on these data using [MintPy](https://github.com/insarlab/MintPy).\n",
    "\n",
    "A note of warning: there's a lot of vocabulary flying (ha!) around in InSAR processing. Most of these are standard satellite related terms. If there's something you don't understand, it's usually a good idea to search for the term, the satellite, and read up on it.\n",
    "\n"
   ]
  },
  {
   "cell_type": "markdown",
   "metadata": {},
   "source": [
    "### Vertex Account\n",
    "\n",
    "For this weeks lab, you will need to set up a Vertex account. Please have this ready before lab. To make your account, go to the [Vertex website](https://search.asf.alaska.edu/#/) and on the upper right click \"Sign In\". In the new window, scroll down and select \"Register\". Fill in the necessary fields and select \"Register for EarthData Login\"."
   ]
  },
  {
   "cell_type": "markdown",
   "metadata": {},
   "source": [
    "### Step 1: Find an Event\n",
    "\n",
    "I would like for you to find an interesting event (earthquake, volcanic eruption, etc). It doesn't so much matter what the signal is as it does that it can be explored using InSAR, ideally this is large amplitude, in an arid region. This can or cannot be related to your graduate research projects. If you have an event in mind, find the time and location.\n",
    " "
   ]
  },
  {
   "cell_type": "markdown",
   "metadata": {},
   "source": [
    "### Step 2: Data Selection\n",
    "\n",
    "In Vertex, the top search tool bar allows you to set which dataset or satellite you search as well as an Area of Interest and additional filters for time and data type. If you are looking at a recent event (post-2014), leave the defaults in the search bar. On the map, zoom and pan to your Area of Interest (AOI). Use the click and drag mouse tool to define an AOI on the map. Select \"Search\" in the top search tool bar. One or more blue boxes will appear overlapping your AOI. These are Sentinel-1 SAR aquisition frames. Select a frame that completely covers your AOI (it should turn from red to blue). A bottom data window outlines the data associated with the selected frame. The \"Scene Detail\" menu provides satellite information such as the path and frame number, polarization, beam mode, and flight direction.\n",
    "\n",
    "Select \"SBAS\" from the bottom search tool. A new SBAS menu should appear. The number of pairs that will be generated is listed in the upper left corner. This is important. We would like to have around 100 pairs. \n",
    "\n",
    "On the right, a baseline image shows the SAR aquisitions plotted over time and baseline. The connecting black lines indicate pre-specified pairs. You can manually add additional pairs using the \"Custom Pair\" tool. Select the \"+\" and click on two SAR data points. A dotted line should appear between the two points. Add a few pairs to process that were not automatically generated. The number of pairs on the left should increase. Since this is set up as short baseline processing, add a few seasonal pairs that span from one year to another. In regions of low coherence, such as the northern regions with snowfall, seasonal pairs are necesary to determine deformation. \n",
    "\n",
    "You can adjust the number of pairs by sliding the baseline bar of the left of the image to adjust the pairs allowed baseline difference and the meter at the bottom of the days between aquisitions. You can set a dates filter under \"SBAS Criteria\"."
   ]
  },
  {
   "cell_type": "markdown",
   "metadata": {},
   "source": [
    "### Step 3: Start Processing\n",
    "\n",
    "Once you have the pairs you want, select the \"Add all results to On Demand Queue\" button next to the number of pairs. It looks like three stacked windows. Under \"InSAR GAMMA\", click \"Add * SLC Pairs\", where * is the number of pairs.\n",
    "\n",
    "In the top menu, select the \"On Demand\" button, and \"On Demand Queue\". A new menu will appear where you can choose what products are produced in addition to the unwrapped phase images. **Select \"Include DEM\", \"Include Inc. Angle Map\",\"Include LOS Displacement\", and \"Include Wrapped phase\"**. Click \"Submit * Jobs\", and provide a **meaningful** project name (this will come back later!).\n",
    "\n",
    "**The processing will take awhile depending on the number of pairs.**\n",
    "\n"
   ]
  },
  {
   "cell_type": "markdown",
   "metadata": {},
   "source": [
    "## Setting up MintPy on OSL\n",
    "\n",
    "We've gotta do a number of things now to get OSL MintPy ready. You're at the forefront as this is still under development. \n",
    "\n",
    "### New conda environment\n",
    "\n",
    "Run the code cell below to set up a new conda environment `insar_analysis` that contains all the packages necessary for MintPy."
   ]
  },
  {
   "cell_type": "code",
   "execution_count": null,
   "metadata": {},
   "outputs": [],
   "source": [
    "%%javascript\n",
    "var kernel = Jupyter.notebook.kernel;\n",
    "var command = [\"notebookUrl = \",\n",
    "               \"'\", window.location, \"'\" ].join('')\n",
    "kernel.execute(command)"
   ]
  },
  {
   "cell_type": "code",
   "execution_count": null,
   "metadata": {},
   "outputs": [],
   "source": [
    "import glob\n",
    "import ipywidgets\n",
    "import os\n",
    "import fileinput\n",
    "\n",
    "from IPython.display import Markdown, display"
   ]
  },
  {
   "cell_type": "code",
   "execution_count": null,
   "metadata": {},
   "outputs": [],
   "source": [
    "%%bash\n",
    "# create backups if needed\n",
    "if [ ! -f /home/jovyan/conda_environments/.git/config.save ]; then\n",
    "    echo \"back up of conda config\"\n",
    "    cp  /home/jovyan/conda_environments/.git/config /home/jovyan/conda_environments/.git/config.save\n",
    "fi\n",
    "\n",
    "if [ ! -f /home/jovyan/notebooks/.git/config.save ]; then\n",
    "    echo \"backup notebook config\"\n",
    "    cp /home/jovyan/notebooks/.git/config /home/jovyan/notebooks/.git/config.save\n",
    "fi\n",
    "\n",
    "#edit the config files\n",
    "echo \"editing the config files\"\n",
    "sed 's|fetch = +refs/heads/main:refs/remotes/origin/main|fetch = +refs/heads/*:refs/remotes/origin/*|g' < /home/jovyan/conda_environments/.git/config.save > /home/jovyan/conda_environments/.git/config\n",
    "sed 's|fetch = +refs/heads/main:refs/remotes/origin/main|fetch = +refs/heads/*:refs/remotes/origin/*|g' < /home/jovyan/notebooks/.git/config.save > /home/jovyan/notebooks/.git/config\n",
    "sed 's|fetch = +refs/heads/master:refs/remotes/origin/master|fetch = +refs/heads/*:refs/remotes/origin/*|g' < /home/jovyan/notebooks/.git/config.save > /home/jovyan/notebooks/.git/config\n",
    "\n",
    "\n",
    "#getting the mintpy environment\n",
    "echo \"getting mintpy environment ...\"\n",
    "cd /home/jovyan/conda_environments\n",
    "git fetch --all\n",
    "git checkout mintpy\n",
    "\n",
    "echo \"getting mintpy notebooks ...\"\n",
    "cd /home/jovyan/notebooks\n",
    "git fetch --all\n",
    "git checkout mintpy\n",
    "\n",
    "#DO NOT CHANGE THIS VARIABLE!\n",
    "name=\"insar_analysis\"\n",
    "\n",
    "echo \"create the new environment insar_analysis\"\n",
    "conda env create -f /home/jovyan/conda_environments/Environment_Configs/${name}_env.yml --prefix /home/jovyan/.local/envs/${name} --force\n"
   ]
  },
  {
   "cell_type": "markdown",
   "metadata": {},
   "source": [
    "### Local configuration\n",
    "\n",
    "The steps below are necessary to make sure this will run, and installs a few more packages."
   ]
  },
  {
   "cell_type": "code",
   "execution_count": null,
   "metadata": {
    "scrolled": true
   },
   "outputs": [],
   "source": [
    "%%bash\n",
    "name=\"insar_analysis\"\n",
    "\n",
    "## ONLY IF THE COMMAND AT THE BOTTOM FAILS, UNCOMMENT THIS SECTION BELOW AND RERUN\n",
    "#echo \"channels:\n",
    "#  - conda-forge\n",
    "#  - defaults\n",
    "\n",
    "#channel_priority: strict\n",
    "\n",
    "#create_default_packages:\n",
    "#  - jupyter\n",
    "#  - kernda\n",
    "\n",
    "#envs_dirs:\n",
    "#  - /home/jovyan/.local/envs\n",
    "#  - /opt/conda/envs\" > ~/.condarc\n",
    "\n",
    "\n",
    "echo \"update ipykernel with env name and location\"\n",
    "conda run -n $name kernda --display-name $name -o /home/jovyan/.local/envs/${name}/share/jupyter/kernels/python3/kernel.json\n",
    "\n",
    "cd ~/conda_environments \n",
    "\n",
    "source install_insar_analysis_pkgs.sh\n",
    "\n",
    "conda clean -p -t --yes"
   ]
  },
  {
   "cell_type": "markdown",
   "metadata": {},
   "source": [
    "### SETUP DONE!\n",
    "\n",
    "## RUNNING THE TIMESERIES ANALYSIS\n",
    "\n",
    "Now, with your environment in place, there are two other notebooks to execute:\n",
    "\n",
    "* download data from vertex into OSL and prepare a mintpy stack\n",
    "* run the mintpy processing\n",
    "\n",
    "Execution of the code cells below will generate the respective links for you. **FOLLOW ALL OF THE INSTRUCTIONS IN THESE NOTEBOOKS! READ ALL THE COMMENTS IN THE CODE!**"
   ]
  },
  {
   "cell_type": "code",
   "execution_count": null,
   "metadata": {},
   "outputs": [],
   "source": [
    "user = !echo $JUPYTERHUB_USER\n",
    "display(Markdown(f'<text style=color:green> Open <a href=\"{notebookUrl.split(\"/user\")[0]}/user/{user[0]}/notebooks/notebooks/SAR_Training/English/Master/Prepare_HyP3_InSAR_Stack_for_MintPy.ipynb\" target=\"_blank\">Prepare_HyP3_InSAR_Stack_for_MintPy.ipynb</a> to download data from vertext and pre</text>'))\n"
   ]
  },
  {
   "cell_type": "markdown",
   "metadata": {},
   "source": [
    "For the time series analysis below, the download of the atmosphere product will take the longest time. Be prepared for a 30+ minute endeavor. Make sure your notebook won't idle out after 1 hr of inactivity. Please perform the analysis in the individual steps, not as a single process. Or you won't learn much."
   ]
  },
  {
   "cell_type": "code",
   "execution_count": null,
   "metadata": {},
   "outputs": [],
   "source": [
    "user = !echo $JUPYTERHUB_USER\n",
    "display(Markdown(f'<text style=color:green> Open <a href=\"{notebookUrl.split(\"/user\")[0]}/user/{user[0]}/notebooks/notebooks/SAR_Training/English/Master/MintPy_Time_Series_From_Prepared_Data_Stack.ipynb\" target=\"_blank\"> MintPy_Time_Series_From_Prepared_Data_Stack.ipynb </a>to run an InSAR time-series analysis on your data using MintPy</text>'))"
   ]
  },
  {
   "cell_type": "markdown",
   "metadata": {},
   "source": [
    "## DELIVERABLES\n",
    "\n",
    "In the directory with your data you should find a `MintPy` subfolder. The `pic` subfolder holds all the products created during the analysis. I think with the knowledge from the lectures a lot of these images should be intuitive. Explore!\n",
    "\n",
    "In a text cell below, explain why you selected the region you picked and for your selected region include and discuss, in the following order, plots of:\n",
    "\n",
    "- the perpendicular baseline history\n",
    "- the coherence matrix\n",
    "- the interferogram network\n",
    "- plot for the average spatial coherence\n",
    "- plot for the average temporal coherence\n",
    "- inverted time series plot\n",
    "- average velocity plot\n",
    "- velocity error plot\n",
    "\n",
    "In section 6 of the notebook you can display timeseries for individual regions of interest by clicking on them. Find an interesting region, save the image and include it here. Discuss what's going on."
   ]
  }
 ],
 "metadata": {
  "celltoolbar": "Tags",
  "kernelspec": {
   "display_name": "Python 3",
   "language": "python",
   "name": "python3"
  },
  "language_info": {
   "codemirror_mode": {
    "name": "ipython",
    "version": 3
   },
   "file_extension": ".py",
   "mimetype": "text/x-python",
   "name": "python",
   "nbconvert_exporter": "python",
   "pygments_lexer": "ipython3",
   "version": "3.8.6"
  }
 },
 "nbformat": 4,
 "nbformat_minor": 4
}
