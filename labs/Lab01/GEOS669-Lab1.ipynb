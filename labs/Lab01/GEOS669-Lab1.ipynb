{
 "cells": [
  {
   "cell_type": "markdown",
   "metadata": {},
   "source": [
    "<img src=\"GNSS.png\" width=\"50%\" />\n",
    "<div width=\"100%\" align=\"right\"><font size=2>https://www.mobatime.com/article/difference-between-gnss-gps</font></div>\n",
    "<br/>\n",
    "<center><font size=6><b>GEOS 669 Geodetic Methods and Modeling</b></font></center>"
   ]
  },
  {
   "cell_type": "markdown",
   "metadata": {},
   "source": [
    "# Lab 1: Introduction to Jupyter Notebooks"
   ]
  },
  {
   "cell_type": "markdown",
   "metadata": {},
   "source": [
    "<b>Assignment Due Date: </b> September 8, 2021 </font>\n",
    "\n",
    "Today's lab will be focused on exploring Jupyter notebooks and the terminal in the Jupyter Hub. \n",
    "\n",
    "**Make sure to have two browser tabs open, one with this notebook, the other with a Jupyter Hub terminal window**\n",
    "\n",
    "Your deliverable for this lab will be this notebook, with additional sections as outlined below. Please rename the notebook from `GEOS669-Lab1.ipynb` to `<last_name>_GEOS669-Lab1.ipynb`. For example, I (Emily Graves) would rename the notebook to `Graves_GEOS669-Lab1.ipynb`. You can do this by clicking on the filename in the top-left corner of this window (similar to e.g. Google Docs). Download the completed file by checking its box in the JupyterHub file browser and selecting \"Download\" from the menu that appears or in the document's \"File\" menu under \"Download as\". Submit it to Canvas under the Lab 1 assignment **no later than 1pm September 8th**.\n"
   ]
  },
  {
   "cell_type": "markdown",
   "metadata": {},
   "source": [
    "### Exercise 1 Some Moving Around in the Shell\n",
    "\n",
    "Now that you have accessed the Jupyter Hub and cloned the Git repository for the lab in the terminal, here are a few commands to review the contents:\n",
    "    \n",
    "```\n",
    "cd ~\n",
    "```\n",
    "\n",
    "```\n",
    "cd GEOS669_geodesy\n",
    "```\n",
    "The first line gets you to your home directory and the second line \"changes directories (```cd```)\" into \"GEOS669_geodesy\". Note that the command ```cd``` without any parameters always gets you back $HOME).\n",
    "\n",
    "\n",
    "Once in \"GEOS669_geodesy\":\n",
    "```\n",
    "ls\n",
    "```\n",
    "<b> and copy the output into the cell below. </b>\n",
    "```\n",
    "cd labs\n",
    "```   \n",
    "If you now type ```pwd``` you should get /home/jovyan/GEOS669_geodesy/labs .\n"
   ]
  },
  {
   "cell_type": "markdown",
   "metadata": {},
   "source": [
    "**Paste output here:**\n"
   ]
  },
  {
   "cell_type": "markdown",
   "metadata": {},
   "source": [
    "### Exercise 2: Some more SHELL exercises\n",
    "\n",
    "Type these commands and follow the output on the screen. I want you to get to know this world a bit better:\n",
    "\n",
    "```\n",
    "cd Lab01\n",
    "```\n",
    "Change directory to today's lab's workspace\n",
    "```\n",
    "ls\n",
    "```\n",
    "Lists contents in current directory\n",
    "```\n",
    "ls | more\n",
    "```\n",
    "Lists contents in directory and pipe it into a pager (exit with ```q```; really only useful for very long output)\n",
    "```    \n",
    "cd ~\n",
    "```    \n",
    "Go home\n",
    "```    \n",
    "pwd\n",
    "```   \n",
    "Print current working directory\n",
    "```    \n",
    "cd GEOS669_geodesy/labs/Lab01\n",
    "```\n",
    "Change to your lab working directory\n",
    "    \n",
    "A useful thing to know is that with the up and down arrows you can browse through the history of your commands. Quite handy if you just typed a very long command and you want to do something quite similar again (Well, it that case it might be time for some shell scripting).\n",
    "    \n",
    "You can learn more about existing environment variables by using ```env | more```.\n",
    "    \n",
    "Type ...\n",
    "    \n",
    "```history```\n",
    "\n",
    "<b> Copy the output from the ```history``` command into your lab report below:</b>\n",
    "\n"
   ]
  },
  {
   "cell_type": "markdown",
   "metadata": {},
   "source": [
    "**Paste output below:**"
   ]
  },
  {
   "cell_type": "markdown",
   "metadata": {},
   "source": [
    "### Exercise 3: Commands, Piping, and Plotting\n",
    "\n",
    "Below I give a list of UNIX commans which I find useful and you'll use some of these now. Each of the commands given in the tables below does something and creates output that that can be piped into the others (multiple pipes are perfectly fine: `command1 | command2 | command3 | ... | commandN`). The general syntax of Unix commands given in the man-pages is generally something like `command [options] file(s)`. This means you write the command name on the command line, you get to chose whether you want to use any of the options the command offers (square brackets usually indicate that things can be left out), and then you operate on one or more files. Here are the commands:\n"
   ]
  },
  {
   "cell_type": "markdown",
   "metadata": {},
   "source": [
    "<img src=\"commands_list.png\" width=\"80%\" />"
   ]
  },
  {
   "cell_type": "markdown",
   "metadata": {},
   "source": [
    "Now, let's get some data! Execute this command to download the file `FAIR.pfiles`:\n",
    "\n",
    "```\n",
    "wget http://grapenthin.org/teaching/geodesy/lab01/FAIR.pfiles\n",
    "``` \n",
    "\n",
    "Type ....\n",
    "```\n",
    "less FAIR.pfiles\n",
    "```\n",
    "\n",
    "... and inspect the file. It comes with a header line that tells you what the columns mean. How many data points are in there, you wonder? (type ```q``` to get out of less):\n",
    "```\n",
    "wc -l FAIR.pfiles\n",
    "```\n",
    "gives you all lines, but remember there is a header line (```wc``` stands for wordcount, but it does more):\n",
    "```   \n",
    "grep -v \"#\" FAIR.pfiles | wc -l\n",
    "```    \n",
    "This command grabs all lines that don't have a # sign in them, then we pipe (```|```) it into ```wc```, which gives us the number of data points. \n",
    "    \n",
    "<b>Give me the number of data points in your report.</b>\n",
    "    \n",
    "Ok, one last thing before the plotting:\n",
    "```    \n",
    "grep -v \"#\" FAIR.pfiles | awk '{print $1,$4,$5,$6}' > FAIR.plot\n",
    "```    \n",
    "This does the same as above, omit lines with # in them, then we pipe it into ```awk``` and ```print``` columns 1, 4, 5, and 6. The output gets redirected into a new file FAIR.plot via the output redirection ```>```. You can omit ```> FAIR.plot``` and everything ends up in your console again.\n",
    "\n",
    "You should now have the FAIR.plot file in your local directory.\n",
    "\n",
    "</font>\n",
    "\n"
   ]
  },
  {
   "cell_type": "markdown",
   "metadata": {},
   "source": [
    "**Provide the number of data points:**"
   ]
  },
  {
   "cell_type": "markdown",
   "metadata": {},
   "source": [
    "To plot, we first need to ```import``` matplotlib and numpy is included if you'd like to use it."
   ]
  },
  {
   "cell_type": "code",
   "execution_count": null,
   "metadata": {},
   "outputs": [],
   "source": [
    "%matplotlib inline\n",
    "import matplotlib.pyplot as plt # for add_subplot, axis, figure, imshow, legend, plot, set_axis_off, set_data,\n",
    "                                # set_title, set_xlabel, set_ylabel, set_ylim, subplots, title, twinx\n",
    "\n",
    "import numpy as np # for arange, arctan, concatenate, cos, fromfile, isnan, ma.masked_value, min, pi, power, reshape,\n",
    "                   # sqrt, square, sin, sum, tile, transpose, where, zeros "
   ]
  },
  {
   "cell_type": "markdown",
   "metadata": {},
   "source": [
    "<b>Now that we've imported matplotlib and numpy, write a short script that loads FAIR.plot and provides a figure with 3 subplots of, respectively, column 2,3, and 4 (in FAIR.plot) over column 1.</b> What are the columns again? Label your axes! Make sure <b>NOT</b> to plot continuous lines, but circles/dots for each data point."
   ]
  },
  {
   "cell_type": "code",
   "execution_count": null,
   "metadata": {},
   "outputs": [],
   "source": [
    "datafile = 'FAIR.plot'"
   ]
  },
  {
   "cell_type": "markdown",
   "metadata": {},
   "source": [
    "To look at the data columns we're interested in just pull the columns from the text file using ```genfromtxt```, asigning a variable name, and run the variable name."
   ]
  },
  {
   "cell_type": "code",
   "execution_count": null,
   "metadata": {},
   "outputs": [],
   "source": [
    "fair = np.genfromtxt(datafile, names=\"epoch, Longitude, Latitude, Height\")"
   ]
  },
  {
   "cell_type": "code",
   "execution_count": null,
   "metadata": {},
   "outputs": [],
   "source": [
    "fair"
   ]
  },
  {
   "cell_type": "code",
   "execution_count": null,
   "metadata": {},
   "outputs": [],
   "source": [
    "#Add code to plot your figure here:"
   ]
  }
 ],
 "metadata": {
  "celltoolbar": "Tags",
  "kernelspec": {
   "display_name": "Python 3",
   "language": "python",
   "name": "python3"
  },
  "language_info": {
   "codemirror_mode": {
    "name": "ipython",
    "version": 3
   },
   "file_extension": ".py",
   "mimetype": "text/x-python",
   "name": "python",
   "nbconvert_exporter": "python",
   "pygments_lexer": "ipython3",
   "version": "3.8.6"
  }
 },
 "nbformat": 4,
 "nbformat_minor": 4
}
