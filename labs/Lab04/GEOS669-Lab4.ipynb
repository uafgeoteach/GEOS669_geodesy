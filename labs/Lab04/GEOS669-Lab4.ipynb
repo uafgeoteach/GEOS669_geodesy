{
 "cells": [
  {
   "cell_type": "markdown",
   "metadata": {},
   "source": [
    "<center><font size=6><b>GEOS 669 Geodetic Methods and Modeling</b></font></center>"
   ]
  },
  {
   "cell_type": "markdown",
   "metadata": {},
   "source": [
    "# Lab 4: GPS Static Position Estimates\n"
   ]
  },
  {
   "cell_type": "markdown",
   "metadata": {},
   "source": [
    "<b>Assignment Due Date: </b> October 4, 2023 </font>\n",
    "\n",
    "Today's lab will be focused on estimating static positions from GPS data.\n",
    "\n",
    "\n",
    "Your deliverable for this lab will be this **notebook and map image**, with additional sections as outlined below. Please rename the notebook from `GEOS669-Lab4.ipynb` to `<last_name>_GEOS669-Lab4.ipynb`. For example, I (Emily Graves) would rename the notebook to `Graves_GEOS669-Lab4.ipynb`. You can do this by clicking on the filename in the top-left corner of this window (similar to, e.g., Google Docs). Download the completed file and image by checking its box in the JupyterHub file browser and selecting \"Download\" from the menu that appears or in the document's \"File\" menu under \"Download as\". Make a **zip file** with your last name and the lab number and then submit it to Canvas under the Lab 4 assignment **no later than 1pm October 4th**."
   ]
  },
  {
   "cell_type": "markdown",
   "metadata": {},
   "source": [
    "### Introduction\n",
    "\n",
    "In an earlier lab, you went through the exercise of determining a position from pseudoranges; by hand. Good job! Today we will start using GIPSYx for precise positioning. GIPSYx (https://gipsy-oasis.jpl.nasa.gov/) is a collection of many programs and scripts to analyze GPS data (and other data). You can find them under ```/usr/local/GIPSY/GipsyX_current/bin```. All of these come with a ```help```, that displays when you call the program on the command line with the ```-h``` flag. The main command we will use is ```gd2e.py```.\n",
    "\n",
    "Today focuses on setting you up for processing of GPS data. The processing will remain quite arbitrary and next week we'll move toward improving on this!\n",
    "\n"
   ]
  },
  {
   "cell_type": "markdown",
   "metadata": {},
   "source": [
    "### SET UP\n",
    "\n",
    "Run the code cell below. It prepares your environment for this lab. Nothing will work if you don't do this. Running it will take a few minutes, so do it right away, and let it complete in the background."
   ]
  },
  {
   "cell_type": "code",
   "execution_count": null,
   "metadata": {},
   "outputs": [],
   "source": [
    "#set up\n",
    "!wget --no-check-certificate http://gps.alaska.edu/geos669/goa-var-GipsyX-1.6.tgz -O goa-var.tar.gz\n",
    "!wget --no-check-certificate http://gps.alaska.edu/geos669/GipsyX-2.2-Linux.tgz -O gipsy.tar.gz\n",
    "!tar xfz goa-var.tar.gz && mv goa-var $HOME/goa-var && rm goa-var.tar.gz\n",
    "!tar xfz gipsy.tar.gz && mv GipsyX-2.2 .GipsyX && rm gipsy.tar.gz\n",
    "!cd .GipsyX && chmod a+x ./rc_GipsyX.sh && ./fix_rc_GipsyX.py -v $HOME/goa-var \n",
    "!if [[ `grep .GipsyX/rc_GipsyX.sh $HOME/.bashrc | wc -l` == 0 ]]; then echo \"source \"`pwd`\"/.GipsyX/rc_GipsyX.sh\" >> $HOME/.bashrc; fi"
   ]
  },
  {
   "cell_type": "markdown",
   "metadata": {},
   "source": [
    "### Basic Setup\n",
    "\n",
    "**ONLY AFTER THE ABOVE CODE CELL IS FINISHED RUNNING DO ANY OF THE BELOW**\n",
    "\n",
    "Open a **NEW** terminal session on the main Jupyter Hub page and ```cd``` into ```GEOS669_geodesy/labs/Lab04```.\n",
    "\n",
    "You're now in a directory for this lab. Stay there. You will work in the terminal window for this lab.\n",
    "\n",
    "The command\n",
    "\n",
    "```gd2e.py -h | less ```\n",
    "\t\n",
    "gives you full help and examples for this interface to GipsyX. (you can quit ```less``` by typing ```q```). Many of the command line parameters are for advanced processing, which we won't be getting into. It's worthwhile knowing about all these options, though. Note that the actual processing engine of GipsyX is ```rtgx``` and ```gd2e.py``` provides a simple front-end to this more complicated (and more flexible) program. For now, focus on using ```gd2e.py``` - I am bringing this up, because some of the output will refer to or label things with ```rtgx```!\n",
    "In this lab, we can only cover some basics, I highly recommend that you take some time and explore this tool! It's what we use to make scientific-grade GPS time series!"
   ]
  },
  {
   "cell_type": "markdown",
   "metadata": {},
   "source": [
    "### IMPORTANT STEP!\n",
    "Update the local GipsyX data base in the new terminal with the most recent products:\n",
    "    \n",
    "```update_GipsyX_files.py -u```\n",
    "\n",
    "Do not forget this or the next task won't work! It will take some time to update."
   ]
  },
  {
   "cell_type": "markdown",
   "metadata": {},
   "source": [
    "### A Simple Example\n",
    "\n",
    "Initially, we will just run a simple example to get used to this. We first need some data. GipsyX comes with a handy tool for download ```rinexFetch.py```. If you execute it on the command line with the ```-h``` flag, you'll get some detailed information. \n",
    "\n",
    "However, we can't use this right now, because the archive with the data I want to use recently changed to authentication. If you want to get data from EarthScope / UNAVCO, you can go here: https://www.unavco.org/data/gps-gnss/file-server/file-server-access-examples.html \n",
    "\n",
    "So what we will do instead is download the data from my server:\n",
    "\n",
    "```wget --no-check-certificate  https://gps.alaska.edu/geos669/ac13.tar.gz && tar xfz ac13.tar.gz && rm ac13.tar.gz ```\n",
    "    \n",
    "If you run ```ls -R ac13``` you should get:\n",
    "\n",
    "<code style=\"background-color:#FFFFFF;font-size:smaller;\">\n",
    "ac13:\n",
    "ac131700.21d.gz \n",
    "    ....\n",
    "\n",
    "</code>\n",
    "\n",
    "With many files.\n"
   ]
  },
  {
   "cell_type": "markdown",
   "metadata": {},
   "source": [
    "\n",
    "\n",
    "**Consult the rinexFetch.py help and explain what the above command does. What are the individual parameters?**\n",
    "\n"
   ]
  },
  {
   "cell_type": "markdown",
   "metadata": {},
   "source": [
    "Write your answer here:"
   ]
  },
  {
   "cell_type": "markdown",
   "metadata": {},
   "source": [
    "We've got some data, you're now ready to run the first solution:\n",
    "\n",
    "```gd2e.py -rnxFile ac13/ac132010.21d.gz```\n",
    "\t\n",
    "The program output should look something like this:\n",
    "\n",
    "<code style=\"background-color:#FFFFFF;font-size:smaller;\">\n",
    "    (base) jovyan@jupyter-rgrapentihn:~/GEOS669_geodesy/labs/Lab04$ gd2e.py -rnxFile ac13/ac132010.21d.gz\n",
    "    2023-09-27 01:19:50.996 : gd2e.py started by jovyan on jupyter-rgrapentihn\n",
    "    Unexpected end of /proc/mounts line `overlay / overlay rw,relatime,lowerdir=/var/lib/containerd/io.containerd.snapshotter.v1.overlayfs/snapshots/102/fs:/var/lib/containerd/io.containerd.snapshotter.v1.overlayfs/snapshots/101/fs:/var/lib/containerd/io.containerd.snapshotter.v1.overlayfs/snapshots/100/fs:/var/lib/containerd/io.containerd.snapshotter.v1.overlayfs/snapshots/99/fs:/var/lib/containerd/io.containerd.snapshotter.v1.overlayfs/snapshots/98/fs:/var/lib/containerd/io.containerd.snapshotter.v1.overlayfs/snapshots/97/fs:/var/lib/containerd'\n",
    "    Unexpected end of /proc/mounts line `/io.containerd.snapshotter.v1.overlayfs/snapshots/96/fs:/var/lib/containerd/io.containerd.snapshotter.v1.overlayfs/snapshots/95/fs:/var/lib/containerd/io.containerd.snapshotter.v1.overlayfs/snapshots/94/fs:/var/lib/containerd/io.containerd.snapshotter.v1.overlayfs/snapshots/93/fs:/var/lib/containerd/io.containerd.snapshotter.v1.overlayfs/snapshots/92/fs:/var/lib/containerd/io.containerd.snapshotter.v1.overlayfs/snapshots/91/fs:/var/lib/containerd/io.containerd.snapshotter.v1.overlayfs/snapshots/90/fs:/var/'\n",
    "    Unexpected end of /proc/mounts line `lib/containerd/io.containerd.snapshotter.v1.overlayfs/snapshots/89/fs:/var/lib/containerd/io.containerd.snapshotter.v1.overlayfs/snapshots/88/fs:/var/lib/containerd/io.containerd.snapshotter.v1.overlayfs/snapshots/87/fs:/var/lib/containerd/io.containerd.snapshotter.v1.overlayfs/snapshots/86/fs:/var/lib/containerd/io.containerd.snapshotter.v1.overlayfs/snapshots/85/fs:/var/lib/containerd/io.containerd.snapshotter.v1.overlayfs/snapshots/84/fs:/var/lib/containerd/io.containerd.snapshotter.v1.overlayfs/snapsho'\n",
    "    Unexpected end of /proc/mounts line `ts/83/fs:/var/lib/containerd/io.containerd.snapshotter.v1.overlayfs/snapshots/82/fs:/var/lib/containerd/io.containerd.snapshotter.v1.overlayfs/snapshots/81/fs:/var/lib/containerd/io.containerd.snapshotter.v1.overlayfs/snapshots/80/fs:/var/lib/containerd/io.containerd.snapshotter.v1.overlayfs/snapshots/79/fs:/var/lib/containerd/io.containerd.snapshotter.v1.overlayfs/snapshots/78/fs:/var/lib/containerd/io.containerd.snapshotter.v1.overlayfs/snapshots/77/fs:/var/lib/containerd/io.containerd.snapshotter.v1.ove'\n",
    "    Unexpected end of /proc/mounts line `rlayfs/snapshots/76/fs:/var/lib/containerd/io.containerd.snapshotter.v1.overlayfs/snapshots/75/fs:/var/lib/containerd/io.containerd.snapshotter.v1.overlayfs/snapshots/74/fs:/var/lib/containerd/io.containerd.snapshotter.v1.overlayfs/snapshots/73/fs:/var/lib/containerd/io.containerd.snapshotter.v1.overlayfs/snapshots/72/fs:/var/lib/containerd/io.containerd.snapshotter.v1.overlayfs/snapshots/71/fs:/var/lib/containerd/io.containerd.snapshotter.v1.overlayfs/snapshots/70/fs:/var/lib/containerd/io.containerd.snap'\n",
    "    Unexpected end of /proc/mounts line `shotter.v1.overlayfs/snapshots/69/fs:/var/lib/containerd/io.containerd.snapshotter.v1.overlayfs/snapshots/68/fs:/var/lib/containerd/io.containerd.snapshotter.v1.overlayfs/snapshots/67/fs:/var/lib/containerd/io.containerd.snapshotter.v1.overlayfs/snapshots/66/fs:/var/lib/containerd/io.containerd.snapshotter.v1.overlayfs/snapshots/65/fs:/var/lib/containerd/io.containerd.snapshotter.v1.overlayfs/snapshots/64/fs:/var/lib/containerd/io.containerd.snapshotter.v1.overlayfs/snapshots/63/fs:/var/lib/containerd/io.c'\n",
    "    [jupyter-rgrapentihn:01041] mca: base: component_find: unable to open /home/jovyan/GEOS669_geodesy/labs/Lab04/.GipsyX/lib/openmpi/lib/openmpi/mca_btl_openib: librdmacm.so.1: cannot open shared object file: No such file or directory (ignored)\n",
    "    2023-09-27 01:19:53.836 : Starting \"gde /home/jovyan/GEOS669_geodesy/labs/Lab04/gde.tree\", stdout=editData.log, stderr=editData.err\n",
    "    2023-09-27 01:20:02.225 : Finished \"gde /home/jovyan/GEOS669_geodesy/labs/Lab04/gde.tree\", stdout=editData.log, stderr=editData.err\n",
    "    2023-09-27 01:20:02.880 : Fetched GNSS products. Found GCORE style. Source: https://sideshow.jpl.nasa.gov/pub/JPL_GNSS_Products/Final. Recovered using files with date labels 2021-07-20 to 2021-07-20.\n",
    "    2023-09-27 01:20:04.013 : Starting \"rtgx Trees/ppp_0.tree\", stdout=rtgx_ppp_0.tree.log0_0, stderr=rtgx_ppp_0.tree.err0_0\n",
    "    2023-09-27 01:20:14.221 : Finished \"rtgx Trees/ppp_0.tree\", stdout=rtgx_ppp_0.tree.log0_0, stderr=rtgx_ppp_0.tree.err0_0\n",
    "    2023-09-27 01:20:14.223 : gd2e.py finished\n",
    "    Elapsed run time: 0:00:23.229247\n",
    "</code>\n",
    "    \n",
    "You should actually read through this output it tells you a few important things: \n",
    "\n",
    "\n",
    " 0. The `Unexpected` lines are something system related and not real output of the program. \n",
    " 1. There's some data editing going on and the output and errors are logged to ```editData.log``` and ```editData.err```. \n",
    " 2. It fetches GNSS products for you (unless you specify yourself), it tells you that it got them from https://sideshow.jpl.nasa.gov/pub/JPL_GNSS_Products/Final (stored in the directory ```GNSSinitValues```. The output / errors from the position processing run are saved to ```rtgx_ppp_0.tree.log0_0``` and ```rtgx_ppp_0.tree.err0_0```, respectively. It's always good to check the error files to ensure all went well (It didn't if anything FATAL occurred).\n",
    "\n",
    "After this run, your directory will now contain many files! A listing should look like this:\n",
    "\n",
    "<code style=\"background-color:#FFFFFF;font-size:smaller;\">\n",
    "\t$ ls\n",
    "    ac13                               iter1_SmootherPostfitResidual.out  iter5_Smoother.pos\n",
    "    AC13.gde.debug.tree                iter1_Smoother.tdp                 iter5_SmootherPostfitResidual.out\n",
    "    AC13.gde.stats                     iter2_forwardFilter.pos            iter5_Smoother.tdp\n",
    "    allStations.xyz                    iter2_forwardFilter.tdp            iter6_forwardFilter.pos\n",
    "    ambres.stats                       iter2_forwardPostfitResidual.out   iter6_forwardFilter.tdp\n",
    "    AmbResSummary                      iter2_SmootherCovariance.cov       iter6_forwardPostfitResidual.out\n",
    "    constraints.txt                    iter2_Smoother.pos                 iter7_forwardFilter.pos\n",
    "    dataRecordFile.gz                  iter2_SmootherPostfitResidual.out  iter7_forwardFilter.tdp\n",
    "    debug.tree                         iter2_Smoother.tdp                 iter7_forwardPostfitResidual.out\n",
    "    editData.err                       iter3_forwardFilter.pos            iterRtgx\n",
    "    editData.log                       iter3_forwardFilter.tdp            postfitResiduals.out\n",
    "    filter.tdp                         iter3_forwardPostfitResidual.out   preamb_final.pos\n",
    "    final.pos                          iter3_SmootherCovariance.cov       preamb_finalResiduals.out\n",
    "    finalResiduals.out                 iter3_Smoother.pos                 preamb_smooth0_0.tdp\n",
    "    gde.tree                           iter3_SmootherPostfitResidual.out  preamb_smoothFinal.cov\n",
    "    GEOS669-Lab4.ipynb                 iter3_Smoother.tdp                 prefitResiduals.out\n",
    "    GNSSinitValues                     iter4_forwardFilter.pos            rinexStaDb\n",
    "    gnssList.txt                       iter4_forwardFilter.tdp            rtgx_ppp_0.tree.err0_0\n",
    "    iter0_SmootherCovariance.cov       iter4_forwardPostfitResidual.out   rtgx_ppp_0.tree.log0_0\n",
    "    iter0_Smoother.pos                 iter4_SmootherCovariance.cov       runAgain\n",
    "    iter0_SmootherPostfitResidual.out  iter4_Smoother.pos                 smooth0_0.tdp\n",
    "    iter0_Smoother.tdp                 iter4_SmootherPostfitResidual.out  smoothFinal.cov\n",
    "    iter1_forwardFilter.pos            iter4_Smoother.tdp                 smoothFinal.tdp\n",
    "    iter1_forwardFilter.tdp            iter5_forwardFilter.pos            stations.txt\n",
    "    iter1_forwardPostfitResidual.out   iter5_forwardFilter.tdp            Summary\n",
    "    iter1_SmootherCovariance.cov       iter5_forwardPostfitResidual.out   Trees\n",
    "    iter1_Smoother.pos                 iter5_SmootherCovariance.cov       treesUsed\n",
    "</code>\n",
    " \n",
    " \n",
    " "
   ]
  },
  {
   "cell_type": "markdown",
   "metadata": {},
   "source": [
    "The file we're all interested in is `smoothFinal.tdp` which contains the final position solution. We'll get into that in a bit. First, have a look at `Trees/ppp_0.tree` (use `less` or something like it). This is the full configuration file for the PPP run! At the beginning you will see that the satellite orbit files are set (`GNSSORB_POS`, which antenna phase center correction file is to be used (`GNSSXYZ_FILE`), that we're not applying ocean load corrections in this run (`OCEANLOAD`) (more about that next time) and so forth. Even if the syntax may be a bit odd, if you read a bit you could get a sense for what's going on here.\n",
    "\n",
    "Another important file that was created is `rinexStaDb`. Have a look! It's a database that contains five lines, `KEYWORDS`, `ID`, `STATE`, `ANT`, `RX`. The first line defines in which order the keyword lines are to be expected. The following 4 lines identify the database record in the first column (AC13), tell us its ```ID``` is AC13 (duh!), its `STATE` refers to its position in XYZ (ECEF) coordinates. Copy the three numbers that end in e+06 and convert it to latitude, longitude, height by adding that text to the end of this command:\n",
    "\n",
    "```\n",
    "xyz2llh.py -xyz\n",
    "```\n",
    "\t\n",
    "**Copy the command as you ran it and its output into the lab report. Add a map (maybe Google Earth) showing the location of the station. Where is it?**"
   ]
  },
  {
   "cell_type": "markdown",
   "metadata": {},
   "source": [
    "Write/Paste outout here:"
   ]
  },
  {
   "cell_type": "markdown",
   "metadata": {},
   "source": [
    "Add your map image into your Lab04 directory and use the code below to display your image:\n",
    "\n",
    "<img src=\"your_image.png\" width=\"50%\" />\n"
   ]
  },
  {
   "cell_type": "markdown",
   "metadata": {},
   "source": [
    "The remaining two lines in the `rinexStaDb` file contain information about the antenna type and the receiver. Remember that different antennas have different phase centers, so we better know which antenna was used. You will find that all this meta information in the `rinexStaDb` file came from the RINEX header information. Have a look if you want:\n",
    "\n",
    "```\n",
    "zcat  ac13/ac132010.21d.gz| head -50\n",
    "```\n"
   ]
  },
  {
   "cell_type": "markdown",
   "metadata": {},
   "source": [
    "\n",
    "Alright, let's get at that precise position that came out of the processing:\n",
    "\n",
    "```\n",
    "tdp2llh.py -tdp smoothFinal.tdp | head -1\n",
    "```\n",
    "\t\n",
    "**Include this result in your report.**"
   ]
  },
  {
   "cell_type": "markdown",
   "metadata": {},
   "source": [
    "**Results:**\n"
   ]
  },
  {
   "cell_type": "markdown",
   "metadata": {},
   "source": [
    "This should be different from the result you got from ```xyz2llh.py``` before as this is the precise position. How different?\n",
    "\n",
    "```\n",
    "tdp2envDiff.py < smoothFinal.tdp\n",
    "```\n",
    "\t\n",
    "This shows us that the final position is 5.66 cm to the east, 13 cm to the south and 7.89 cm up from the original position. Let's use the more precise estimate as our starting position and add this to ```StaDB```:\n",
    "\n",
    "```\n",
    "grep AC13.State.Pos smoothFinal.tdp | head -3\n",
    "```\n",
    "\t\n",
    "These are the last three lines of the final position solution that give us a position estimate for station AC13. One line for X,Y,Z component each. The first column is the time in seconds past Jan. 1, 2000 UTC (you can use the program `sec2date` to convert this value to something that's more easily digestible, e.g. `sec2date 615384000` yields `2019-07-03 00:00:00`). The second column is the nominal value, this should be the same as in `rinexStaDb`. The third column is the actual value, i.e. the new position. Fourth and fifth column are sigma and id, respectively. **Copy the values from the third column into the correct positions in `rinexStaDB` of the `STATE` variable (there X is 5, Y is 6 and Z is 7th columns).** To make sure you're not losing your edits, rename the station database:\n",
    "\n",
    "```\n",
    "cp rinexStaDb myStaDb\n",
    "```\n",
    "\t\n",
    "We will make use of this next time (when processing rinex files directly, `gd2e.py` will always create its own new `rinexStaDb` file from the rinex headers and ignore the one you may give to it.)\n",
    "\n"
   ]
  },
  {
   "cell_type": "markdown",
   "metadata": {},
   "source": [
    "# A more involved example - time series\n",
    "\n",
    "We'll now try to generate a time series. We have more rinex files for the station you just processed one day for, from June 19th to October 06, 2021:\n",
    "\n",
    "<code style=\"background-color:#FFFFFF;font-size:smaller;\">\n",
    "\n",
    "    $ ls -d ac13/*\n",
    "    ac131700.21d.gz  ac131890.21d.gz  ac132080.21d.gz  ac132270.21d.gz  ac132460.21d.gz  ac132650.21d.gz\n",
    "    ac131710.21d.gz  ac131900.21d.gz  ac132090.21d.gz  ac132280.21d.gz  ac132470.21d.gz  ac132660.21d.gz\n",
    "    ac131720.21d.gz  ac131910.21d.gz  ac132100.21d.gz  ac132290.21d.gz  ac132480.21d.gz  ac132670.21d.gz\n",
    "    ac131730.21d.gz  ac131920.21d.gz  ac132110.21d.gz  ac132300.21d.gz  ac132490.21d.gz  ac132680.21d.gz\n",
    "    ac131740.21d.gz  ac131930.21d.gz  ac132120.21d.gz  ac132310.21d.gz  ac132500.21d.gz  ac132690.21d.gz\n",
    "    ac131750.21d.gz  ac131940.21d.gz  ac132130.21d.gz  ac132320.21d.gz  ac132510.21d.gz  ac132700.21d.gz\n",
    "    ac131760.21d.gz  ac131950.21d.gz  ac132140.21d.gz  ac132330.21d.gz  ac132520.21d.gz  ac132710.21d.gz\n",
    "    ac131770.21d.gz  ac131960.21d.gz  ac132150.21d.gz  ac132340.21d.gz  ac132530.21d.gz  ac132720.21d.gz\n",
    "    ac131780.21d.gz  ac131970.21d.gz  ac132160.21d.gz  ac132350.21d.gz  ac132540.21d.gz  ac132730.21d.gz\n",
    "    ac131790.21d.gz  ac131980.21d.gz  ac132170.21d.gz  ac132360.21d.gz  ac132550.21d.gz  ac132740.21d.gz\n",
    "    ac131800.21d.gz  ac131990.21d.gz  ac132180.21d.gz  ac132370.21d.gz  ac132560.21d.gz  ac132750.21d.gz\n",
    "    ac131810.21d.gz  ac132000.21d.gz  ac132190.21d.gz  ac132380.21d.gz  ac132570.21d.gz  ac132760.21d.gz\n",
    "    ac131820.21d.gz  ac132010.21d.gz  ac132200.21d.gz  ac132390.21d.gz  ac132580.21d.gz  ac132770.21d.gz\n",
    "    ac131830.21d.gz  ac132020.21d.gz  ac132210.21d.gz  ac132400.21d.gz  ac132590.21d.gz  ac132780.21d.gz\n",
    "    ac131840.21d.gz  ac132030.21d.gz  ac132220.21d.gz  ac132410.21d.gz  ac132600.21d.gz  ac132790.21d.gz\n",
    "    ac131850.21d.gz  ac132040.21d.gz  ac132230.21d.gz  ac132420.21d.gz  ac132610.21d.gz\n",
    "    ac131860.21d.gz  ac132050.21d.gz  ac132240.21d.gz  ac132430.21d.gz  ac132620.21d.gz\n",
    "    ac131870.21d.gz  ac132060.21d.gz  ac132250.21d.gz  ac132440.21d.gz  ac132630.21d.gz\n",
    "    ac131880.21d.gz  ac132070.21d.gz  ac132260.21d.gz  ac132450.21d.gz  ac132640.21d.gz\n",
    "\n",
    "</code>\n",
    "    \n",
    "Note that each of these file names consists of the first 4 characters which identify the station (AC13), the three characters after that (here from 170 to 279) identify the Julian day of the year (use ```doy2date DOY YYYY``` to convert from day-of-year and YEAR to date), this is followed by a character that identifies the session (here: 0 - full day), then 21d says that the year is 2021 and the format is 'd' - Hatanaka compressed Rinex.\n",
    "\n",
    "Process each of these days with `gd2e.py` (see above), but perhaps wrap this in a loop and make sure you save the `smoothFinal.tdp` contents for each day. Do this:\n",
    "\n",
    "```\n",
    "cp smoothFinal.tdp DATE.tdp\n",
    "```\n",
    "\t\n",
    "where you replace `DATE` with the date (or DOY) of the file you just processed.\n",
    "\n",
    "This processing can be easily automated using a `for` loop in the bash shell environment. If you know how to do that, go ahead. Else, process each file individually and work on your report in between processing calls. Don't forget to save the daily result!\n",
    "\n",
    "Once this is done, plot it as a time series in east north and vertical components (3 panels). For this, you will first need to extract a solution for each day and put this in a new file. Let's use the change in position from nominal. Use the second to last line from the `tdp2envDiff.py` output (again, this can be automated in a loop) and add this to a new file. **Note that the values are in cm.** You may use `sec2date` or another tool to convert the first column in this file to a more easily legible date.\n",
    "\n",
    "\n",
    "Summary: This is pretty straightforward GNSS processing. However, a few crucial things aren't treated well yet. That includes atmosphere, ocean loading, etc. Plus, it's pretty clumsy to do all of this by hand. What you'll do if you routinely process GNSS data from several stations that provide new data every day is decide on a processing strategy and then set up a few scripts that handle the downloading, preprocessing, analysis and time series updates. They can be run in an environment that triggers the processing pipeline at certain times of the day and -if all goes well- you have updated time series without doing much. Of course, there's always going to be something that will interfere with the ideal state, but still better than doing it all by hand ..."
   ]
  },
  {
   "cell_type": "markdown",
   "metadata": {},
   "source": [
    "**Is the station moving? To where and by how much and on what day(s)? What happened at these time(s) in this region? (research!)**"
   ]
  },
  {
   "cell_type": "markdown",
   "metadata": {},
   "source": []
  },
  {
   "cell_type": "code",
   "execution_count": null,
   "metadata": {},
   "outputs": [],
   "source": [
    "#Write your plotting script here:"
   ]
  },
  {
   "cell_type": "code",
   "execution_count": null,
   "metadata": {},
   "outputs": [],
   "source": []
  }
 ],
 "metadata": {
  "celltoolbar": "Tags",
  "kernelspec": {
   "display_name": "base",
   "language": "python",
   "name": "python3"
  },
  "language_info": {
   "codemirror_mode": {
    "name": "ipython",
    "version": 3
   },
   "file_extension": ".py",
   "mimetype": "text/x-python",
   "name": "python",
   "nbconvert_exporter": "python",
   "pygments_lexer": "ipython3",
   "version": "3.10.8"
  }
 },
 "nbformat": 4,
 "nbformat_minor": 4
}
