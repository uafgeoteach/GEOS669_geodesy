{
 "cells": [
  {
   "cell_type": "markdown",
   "metadata": {},
   "source": [
    "<center><font size=5><b>GEOS 669 Geodetic Methods and Modeling</b></font></center>"
   ]
  },
  {
   "cell_type": "markdown",
   "metadata": {},
   "source": [
    "# Lab 6: InSAR Timeseries Analysis with HyP3 & MintPY\n"
   ]
  },
  {
   "cell_type": "markdown",
   "metadata": {},
   "source": [
    "**Assignment Due Date**: October 18th, 2023\n",
    "\n",
    "Your deliverable for this lab will be this notebook, with additional sections as outlined below. Please rename the notebook from `GEOS669-Lab6.ipynb` to `<last_name>_GEOS669-Lab6.ipynb`. For example, I (Emily Graves) would rename the notebook to `Graves_GEOS669-Lab6.ipynb`. You can do this by clicking on the filename in the top-left corner of this window (similar to, e.g., Google Docs). Download the completed file and image by checking its box in the JupyterHub file browser and selecting \"Download\" from the menu that appears or in the document's \"File\" menu under \"Download as\". Then submit it to Canvas under the Lab 6 assignment **no later than 1pm October 18th**."
   ]
  },
  {
   "cell_type": "markdown",
   "metadata": {},
   "source": [
    "### Introduction\n",
    "\n",
    "Complete shift in gears now! We're moving from GPS processing into InSAR processing. The goal for today is to get you comfortable finding you way around the Alaska Satellite Facility's data portal, [Vertex](https://search.asf.alaska.edu/#/), using their free processing service, moving those data into OSL and performing a timeseries analysis on these data using [MintPy](https://github.com/insarlab/MintPy).\n",
    "\n",
    "A note of warning: there's a lot of vocabulary flying (ha!) around in InSAR processing. Most of these are standard satellite related terms. If there's something you don't understand, it's usually a good idea to search for the term, the satellite, and read up on it.\n",
    "\n"
   ]
  },
  {
   "cell_type": "markdown",
   "metadata": {},
   "source": [
    "# Part 1 - Vertex\n",
    "\n",
    "### Vertex Account\n",
    "\n",
    "For this weeks lab, you will need to set up a Vertex account. To make your account, go to the [Vertex website](https://search.asf.alaska.edu/#/) and on the upper right click \"Sign In\". In the new window, scroll down and select \"Register\". Fill in the necessary fields and select \"Register for EarthData Login\".\n",
    "\n",
    "### Step 1: Find an Event\n",
    "\n",
    "I would like for you to find an interesting event (earthquake, volcanic eruption, etc). It doesn't so much matter what the signal is as it does that it can be explored using InSAR, ideally this is large amplitude, in an arid region. This can or cannot be related to your graduate research projects. If you have an event in mind, find the time and location.\n",
    " "
   ]
  },
  {
   "cell_type": "markdown",
   "metadata": {},
   "source": [
    "### Step 2: Data Selection\n",
    "\n",
    "In Vertex, the top search tool bar allows you to set which dataset or satellite you search as well as an Area of Interest and additional filters for time and data type. If you are looking at a recent event (post-2014), leave the defaults in the search bar. On the map, zoom and pan to your Area of Interest (AOI). Use the click and drag mouse tool to define an AOI on the map. Select \"Search\" in the top search tool bar. One or more blue boxes will appear overlapping your AOI. These are Sentinel-1 SAR aquisition frames. Select a frame that completely covers your AOI (it should turn from red to blue). A bottom data window outlines the data associated with the selected frame. The \"Scene Detail\" menu provides satellite information such as the path and frame number, polarization, beam mode, and flight direction.\n",
    "\n",
    "Select \"SBAS\" from the bottom search tool. A new SBAS menu should appear. The number of pairs that will be generated is listed in the upper left corner. This is important. We would like to have more than 100 pairs and can run up to 1000. \n",
    "\n",
    "On the right, a baseline image shows the SAR aquisitions plotted over time and baseline. The connecting black lines indicate pre-specified pairs. You can manually add additional pairs using the \"Custom Pair\" tool. Select the \"+\" and click on two SAR data points. A dotted line should appear between the two points. Add a few pairs to process that were not automatically generated. The number of pairs on the left should increase. Since this is set up as short baseline processing, add a few seasonal pairs that span from one year to another. In regions of low coherence, such as the northern regions with snowfall, seasonal pairs are necesary to determine deformation. \n",
    "\n",
    "You can adjust the number of pairs by sliding the baseline bar of the left of the image to adjust the pairs allowed baseline difference and the meter at the bottom of the days between aquisitions. You can set a dates filter under \"SBAS Filters\"."
   ]
  },
  {
   "cell_type": "markdown",
   "metadata": {},
   "source": [
    "### Step 3: Start Processing\n",
    "\n",
    "Once you have the pairs you want, select the \"Add all results to On Demand Queue\" button next to the number of pairs. It looks like three stacked windows. Under \"InSAR GAMMA\", click \"Add * SLC Pairs\", where * is the number of pairs.\n",
    "\n",
    "In the top menu, select the \"On Demand\" button, and \"On Demand Queue\". A new menu will appear where you can choose what products are produced in addition to the unwrapped phase images. Make sure \"DEM\", \"Incidence Angle Maps\". \"Look Vectors\", \"Displacement Maps\" and \"Wrapped Phase\" are selected. Click the \"Set MintPy Options\" button then click \"Submit * Jobs\", and provide a **meaningful** project name (this will come back later!).\n",
    "\n",
    "**The processing will take awhile depending on the number of pairs.**\n",
    "\n"
   ]
  },
  {
   "cell_type": "markdown",
   "metadata": {},
   "source": [
    "## DELIVERABLE 1\n",
    "\n",
    "In a text cell below, describe the interesting event you chose, its location, and significance."
   ]
  },
  {
   "cell_type": "markdown",
   "metadata": {},
   "source": []
  },
  {
   "cell_type": "markdown",
   "metadata": {},
   "source": [
    "# STOP HERE TODAY - 10/11/23\n",
    "\n",
    "### Oh no! Technical issues have blocked the way on your journey of InSAR discovery...  :(  You do not not move past Part 1, or collect 200 dollars.    "
   ]
  },
  {
   "cell_type": "markdown",
   "metadata": {},
   "source": [
    "# Part 2 - MintPy Processing\n",
    "\n",
    "\n",
    "## Step 1: Setting up MintPy on OSL\n",
    "\n",
    "We've gotta do a number of things now to get OSL MintPy ready. You're at the forefront as this is still under development. \n",
    "\n",
    "### New conda environment\n",
    "\n",
    "Run the code cell below to set up a new conda environment `osl_mintpy` that contains all the packages necessary for MintPy."
   ]
  },
  {
   "cell_type": "code",
   "execution_count": null,
   "metadata": {},
   "outputs": [],
   "source": [
    "import glob\n",
    "import ipywidgets\n",
    "import os\n",
    "import fileinput\n",
    "\n",
    "from IPython.display import Markdown, display\n",
    "\n",
    "user = !echo $JUPYTERHUB_USER\n",
    "display(Markdown(f'<text style=color:green> Open <a href=\"https://opensciencelab.asf.alaska.edu/lab/geodesy/user/{user[0]}/lab/tree/conda_environments/Create_OSL_Conda_Environments.ipynb\" target=\"_blank\">Create_OS_Conda_Environments.ipynb</a>. Select \"Use Locked OSL-supplied environment.yaml (recommended)\" and install \"osl_mintpy\"</text>'))\n"
   ]
  },
  {
   "cell_type": "markdown",
   "metadata": {},
   "source": [
    "**Follow the steps from the cell output above.**\n",
    "\n",
    "There is no need to open and run the \"example minimal environment for OpenSARLab\" notebook that is generated. Just make sure to use the right .yaml designation given above."
   ]
  },
  {
   "cell_type": "markdown",
   "metadata": {},
   "source": [
    "Next, make sure that the osl_mintpy kernel shows up in your Kernel list."
   ]
  },
  {
   "cell_type": "code",
   "execution_count": null,
   "metadata": {},
   "outputs": [],
   "source": [
    "!python -m ipykernel install --user --name=osl_mintpy"
   ]
  },
  {
   "cell_type": "markdown",
   "metadata": {},
   "source": [
    "Now, save your notebook and close it. Restart the server, open the notebook and select \"osl_mintpy\" as the kernel and continue below. You'll have to rerun the `imports` above."
   ]
  },
  {
   "cell_type": "markdown",
   "metadata": {},
   "source": [
    "### SETUP DONE!\n",
    "\n",
    "## Step 2: RUNNING THE TIMESERIES ANALYSIS\n",
    "\n",
    "Now, with your environment in place, there are two other notebooks to execute:\n",
    "\n",
    "* download data from vertex into OSL and prepare a mintpy stack\n",
    "* run the mintpy processing\n",
    "\n",
    "Execution of the code cells below will generate the respective links for you. **FOLLOW ALL OF THE INSTRUCTIONS IN THESE NOTEBOOKS! READ ALL THE COMMENTS IN THE CODE!**"
   ]
  },
  {
   "cell_type": "code",
   "execution_count": null,
   "metadata": {},
   "outputs": [],
   "source": [
    "user = !echo $JUPYTERHUB_USER\n",
    "display(Markdown(f'<text style=color:green> Open <a href=\"https://opensciencelab.asf.alaska.edu/lab/geodesy/user/{user[0]}/lab/tree/notebooks/SAR_Training/English/Master/Prepare_HyP3_InSAR_Stack_for_MintPy.ipynb\" target=\"_blank\">Prepare_HyP3_InSAR_Stack_for_MintPy.ipynb</a> to download data from vertext and pre</text>'))\n"
   ]
  },
  {
   "cell_type": "markdown",
   "metadata": {},
   "source": [
    "For the time series analysis below, the download of the atmosphere product will take the longest time. Be prepared for a 30+ minute endeavor. Make sure your notebook won't idle out after 1 hr of inactivity. Please perform the analysis in the individual steps, not as a single process. Or you won't learn much."
   ]
  },
  {
   "cell_type": "code",
   "execution_count": null,
   "metadata": {},
   "outputs": [],
   "source": [
    "user = !echo $JUPYTERHUB_USER\n",
    "display(Markdown(f'<text style=color:green> Open <a href=\"https://opensciencelab.asf.alaska.edu/lab/geodesy/user/{user[0]}/lab/tree/notebooks/SAR_Training/English/Master/MintPy_Time_Series_From_Prepared_Data_Stack.ipynb\" target=\"_blank\"> MintPy_Time_Series_From_Prepared_Data_Stack.ipynb </a>to run an InSAR time-series analysis on your data using MintPy</text>'))"
   ]
  },
  {
   "cell_type": "markdown",
   "metadata": {},
   "source": [
    "## DELIVERABLE 2\n",
    "\n",
    "In the directory with your data you should find a `MintPy` subfolder. The `pic` subfolder holds all the products created during the analysis. I think with the knowledge from the lectures a lot of these images should be intuitive. Explore!\n",
    "\n",
    "In a text cell below, for your selected region include and discuss, in the following order, plots of:\n",
    "\n",
    "- the perpendicular baseline history\n",
    "- the coherence matrix\n",
    "- the interferogram network\n",
    "- plot for the average spatial coherence\n",
    "- plot for the average temporal coherence\n",
    "- inverted time series plot\n",
    "- average velocity plot\n",
    "- velocity error plot\n",
    "\n",
    "In section 6 of the notebook you can display timeseries for individual regions of interest by clicking on them. Find an interesting region, save the image and include it here. Discuss what's going on."
   ]
  },
  {
   "cell_type": "code",
   "execution_count": null,
   "metadata": {},
   "outputs": [],
   "source": []
  }
 ],
 "metadata": {
  "celltoolbar": "Tags",
  "kernelspec": {
   "display_name": "osl_mintpy",
   "language": "python",
   "name": "conda-env-.local-osl_mintpy-py"
  },
  "language_info": {
   "codemirror_mode": {
    "name": "ipython",
    "version": 3
   },
   "file_extension": ".py",
   "mimetype": "text/x-python",
   "name": "python",
   "nbconvert_exporter": "python",
   "pygments_lexer": "ipython3",
   "version": "3.9.0"
  }
 },
 "nbformat": 4,
 "nbformat_minor": 4
}
