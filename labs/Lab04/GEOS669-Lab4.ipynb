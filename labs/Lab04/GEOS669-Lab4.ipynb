{
 "cells": [
  {
   "cell_type": "markdown",
   "metadata": {},
   "source": [
    "<center><font size=6><b>GEOS 669 Geodetic Methods and Modeling</b></font></center>"
   ]
  },
  {
   "cell_type": "markdown",
   "metadata": {},
   "source": [
    "# Lab 4: GPS Static Position Estimates\n"
   ]
  },
  {
   "cell_type": "markdown",
   "metadata": {},
   "source": [
    "<b>Assignment Due Date: </b> September 28, 2023 </font>\n",
    "\n",
    "Today's lab will be focused on estimating static positions from GPS data.\n",
    "\n",
    "\n",
    "Your deliverable for this lab will be this **notebook and map image**, with additional sections as outlined below. Please rename the notebook from `GEOS669-Lab4.ipynb` to `<last_name>_GEOS669-Lab4.ipynb`. For example, I (Emily Graves) would rename the notebook to `Graves_GEOS669-Lab4.ipynb`. You can do this by clicking on the filename in the top-left corner of this window (similar to, e.g., Google Docs). Download the completed file and image by checking its box in the JupyterHub file browser and selecting \"Download\" from the menu that appears or in the document's \"File\" menu under \"Download as\". Make a **zip file** with your last name and the lab number and then submit it to Canvas under the Lab 4 assignment **no later than 1pm September 28th**."
   ]
  },
  {
   "cell_type": "markdown",
   "metadata": {},
   "source": [
    "### Introduction\n",
    "\n",
    "In an earlier lab, you went through the exercise of determining a position from pseudoranges; by hand. Good job! Today we will start using GIPSYx for precise positioning. GIPSYx (https://gipsy-oasis.jpl.nasa.gov/) is a collection of many programs and scripts to analyze GPS data (and other data). You can find them under ```/usr/local/GIPSY/GipsyX_current/bin```. All of these come with a ```help```, that displays when you call the program on the command line with the ```-h``` flag. The main command we will use is ```gd2e.py```.\n",
    "\n",
    "Today focuses on setting you up for processing of GPS data. The processing will remain quite arbitrary and next week we'll move toward improving on this!\n",
    "\n"
   ]
  },
  {
   "cell_type": "markdown",
   "metadata": {},
   "source": [
    "### SET UP\n",
    "\n",
    "Run the code cell below. It prepares your environment for this lab. Nothing will work if you don't do this. Running it will take a few minutes, so do it right away, and let it complete in the background."
   ]
  },
  {
   "cell_type": "code",
   "execution_count": null,
   "metadata": {},
   "outputs": [],
   "source": [
    "#set up\n",
    "!wget --no-check-certificate https://gps.alaska.edu/geos669/goa-var.1-6.tar.gz -O goa-var.tar.gz\n",
    "!wget --no-check-certificate https://gps.alaska.edu/geos669/GipsyX-1.6-Linux-avx.tgz -O gipsy.tar.gz\n",
    "!tar xfz goa-var.tar.gz && mv goa-var-1.6 $HOME/goa-var && rm goa-var.tar.gz\n",
    "!tar xfz gipsy.tar.gz && mv GipsyX-1.6 .GipsyX && rm gipsy.tar.gz\n",
    "!cd .GipsyX && chmod a+x ./rc_GipsyX.sh && ./fix_rc_GipsyX.py -g\n",
    "!if [[ `grep .GipsyX/rc_GipsyX.sh $HOME/.bashrc | wc -l` == 0 ]]; then echo \"source \"`pwd`\"/.GipsyX/rc_GipsyX.sh\" >> $HOME/.bashrc; fi"
   ]
  },
  {
   "cell_type": "markdown",
   "metadata": {},
   "source": [
    "### Basic Setup\n",
    "\n",
    "**ONLY AFTER THE ABOVE CODE CELL IS FINISHED RUNNING DO ANY OF THE BELOW**\n",
    "\n",
    "Open a **NEW** terminal session on the main Jupyter Hub page and ```cd``` into ```GEOS669_geodesy/labs/Lab04```.\n",
    "\n",
    "You're now in a directory for this lab. Stay there. You will work in the terminal window for this lab.\n",
    "\n",
    "The command\n",
    "\n",
    "```gd2e.py -h | less ```\n",
    "\t\n",
    "gives you full help and examples for this interface to GipsyX. (you can quit ```less``` by typing ```q```). Many of the command line parameters are for advanced processing, which we won't be getting into. It's worthwhile knowing about all these options, though. Note that the actual processing engine of GipsyX is ```rtgx``` and ```gd2e.py``` provides a simple front-end to this more complicated (and more flexible) program. For now, focus on using ```gd2e.py``` - I am bringing this up, because some of the output will refer to or label things with ```rtgx```!\n",
    "In this lab, we can only cover some basics, I highly recommend that you take some time and explore this tool! It's what we use to make scientific-grade GPS time series!"
   ]
  },
  {
   "cell_type": "markdown",
   "metadata": {},
   "source": [
    "### A Simple Example\n",
    "\n",
    "Initially, we will just run a simple example to get used to this. We first need some data. GipsyX comes with a handy tool for download, which we'll use for now: ```rinexFetch.py```. If you execute it on the command line with the ```-h``` flag, you'll get some detailed information. After you explore that output, run this (may take a while):\n",
    "\n",
    "```rinexFetch.py -outDir . -day -t1 2021-07-20 -stns ac13 -srv unavco```\n",
    "    \n",
    "The output should be: \n",
    "\n",
    "```1 daily files downloaded of 2 found on unavco```. \n",
    "\n",
    "If you run ```ls -R y2021``` you should get:\n",
    "\n",
    "<code style=\"background-color:#FFFFFF;font-size:smaller;\">\n",
    "y2021/:\n",
    "d201\n",
    "\n",
    "y2021/d201:\n",
    "ac132010.21d.Z\n",
    "</code>\n",
    "\n",
    "**Consult the rinexFetch.py help and explain what the above command does. What are the individual parameters?**\n",
    "\n"
   ]
  },
  {
   "cell_type": "markdown",
   "metadata": {},
   "source": [
    "Write your answer here:"
   ]
  },
  {
   "cell_type": "markdown",
   "metadata": {},
   "source": [
    "We've got some data, you're now ready to run the first solution:\n",
    "\n",
    "```gd2e.py -rnxFile y2021/d201/ac132010.21d.Z```\n",
    "\t\n",
    "The program output should look something like this:\n",
    "\n",
    "<code style=\"background-color:#FFFFFF;font-size:smaller;\">\n",
    "    2021-09-21 14:55:56.230 : gd2e.py started by jovyan on jupyter-rgrapentihn\n",
    "    Unexpected end of /proc/mounts line `overlay / overlay rw,relatime,lowerdir=/var/lib/docker/overlay2/l/VSI6YDZ3CP6XZZA2ETNYFOKJNY:/var/lib/docker/overlay2/l/6TYWRBHD3DD6SWPIWFPKV7UGSE:/var/lib/docker/overlay2/l/NY764EDNXWJUWU3JXOHN6GTAKC:/var/lib/docker/overlay2/l/O4JZGQ3PJKTUPHH3DU2WJD3RUD:/var/lib/docker/overlay2/l/5H2KMX4NFUYBE3TNWIVRKJFZLQ:/var/lib/docker/overlay2/l/QW7U7VZCI24RUL73WLH6X7OSYJ:/var/lib/docker/overlay2/l/7EROSQS7EO4M3GAXE6HADAZ2VT:/var/lib/docker/overlay2/l/KK7BRAW7YRL55FFDJ5FSLLBP5D:/var/lib/docker/overlay2/l/EQJECPRS7IALV'\n",
    "    Unexpected end of /proc/mounts line `C73MJO74EYQGY:/var/lib/docker/overlay2/l/7OM4NFF4MIQWHZKW7AHVF4L43J:/var/lib/docker/overlay2/l/R2TQIWPAQ5EVCMZ3G322SNQDMS:/var/lib/docker/overlay2/l/V6R7YGS5A3Q33VJDPZ4ECZ5Z27:/var/lib/docker/overlay2/l/ENHMNHS6WUY2I6KFHYLIVVJOMD:/var/lib/docker/overlay2/l/E2BY2BG5NXNQB2Q25TOA7UDTZE:/var/lib/docker/overlay2/l/DBF6XIQSZB5G34VYBBLYC6XLLQ:/var/lib/docker/overlay2/l/A6GZCZJ3DXRBZXZJOVIRBLSC7X:/var/lib/docker/overlay2/l/6PCL3HKZEFETXOSU5J7I6FEZAT:/var/lib/docker/overlay2/l/SZHOFKCLB5QSZVRN5GY34QKNNY:/var/lib/do'\n",
    "    Unexpected end of /proc/mounts line `cker/overlay2/l/IVJJYLIATIR6DLF2JR7SSGJFD2:/var/lib/docker/overlay2/l/K27NQKUHNXPR7XRQFFYXKGIERC:/var/lib/docker/overlay2/l/ZZPK3BAP3XUZEOERCPAH4JX5YO:/var/lib/docker/overlay2/l/QI4CD3RW7AHD7NYVYSLFC5VLOZ:/var/lib/docker/overlay2/l/36T62P645WODS3TYZBYSBSDGWT:/var/lib/docker/overlay2/l/SMNSSHGSVKCAXHCMWTFHVYPQHD:/var/lib/docker/overlay2/l/QTMTT23YTQ7AC43JRKDSVSOH4G:/var/lib/docker/overlay2/l/Y6TNUZK64MFYRKHS55I63VNHIE:/var/lib/docker/overlay2/l/4BI5CQ2YWCVVCHUOEGUWKVJU7Y:/var/lib/docker/overlay2/l/X6ZAXUYBJ'\n",
    "    Unexpected end of /proc/mounts line `GV6SPTTLQSLVUX6ZK:/var/lib/docker/overlay2/l/5SY3UIVWPTPFSRDIJMA2IMKZG4:/var/lib/docker/overlay2/l/ID2QPXF7AF2MDE43WNATCJFZVB:/var/lib/docker/overlay2/l/XW3Y2K4S7YG43EGMZNIWZ4A374:/var/lib/docker/overlay2/l/6T7U2SUIRJDUHYZWVSS2LXSCWX:/var/lib/docker/overlay2/l/CCBRPWCMT7UM4LCXQXT2BNAZPX:/var/lib/docker/overlay2/l/PCLQWT224ASENMPPTTSNDEBCG2:/var/lib/docker/overlay2/l/IH7VYSPQ2TTFV4POO5HFQHQXPZ:/var/lib/docker/overlay2/l/7MWS55GEKA63KG7VOHDIUKWKAJ:/var/lib/docker/overlay2/l/VVGLD65B4U5ZUXRI6KSGJZB7RZ:/var/li'\n",
    "    Unexpected end of /proc/mounts line `b/docker/overlay2/l/4BAGHRMB2IO3ZIIHSPYW6AAA45:/var/lib/docker/overlay2/l/PCRBFBEV6EVVHG63EPM3RUXTAR:/var/lib/docker/overlay2/l/RFEDRWTQYBJKREO4UQNNL6P623:/var/lib/docker/overlay2/l/NKLZUKRAI5ZXKB26TMUAIJG22K:/var/lib/docker/overlay2/l/ENMTZVGQI4XMFZMAMEJUJ42BSM:/var/lib/docker/overlay2/l/ITTDTX3NCNCDORVH22S5WMBGAA:/var/lib/docker/overlay2/l/KVFPFUY2JNPS6TZEAECFYYHRUF:/var/lib/docker/overlay2/l/YTFWRBQWIXKZ3XMUE6TJSXJPYY,upperdir=/var/lib/docker/overlay2/643fd5f9b49278866282bc880a4e7daf88840d0ddb84e4ce4ed0'\n",
    "    E::1000011::Reader Event::Read ConstellationInfo file /home/jovyan/goa-var/etc/ConstellationInfo\n",
    "    2021-09-21 14:55:59.309 : Starting \"gde /home/jovyan/GEOS669_geodesy_soln/labs/Lab04/gde.tree\", stdout=editData.log, stderr=editData.err\n",
    "    2021-09-21 14:56:07.228 : Finished \"gde /home/jovyan/GEOS669_geodesy_soln/labs/Lab04/gde.tree\", stdout=editData.log, stderr=editData.err\n",
    "    2021-09-21 14:56:08.512 : Fetched GNSS products. Found GCORE style. Source: https://sideshow.jpl.nasa.gov/pub/JPL_GNSS_Products/Final. Recovered using files with date labels 2021-07-20 to 2021-07-20.\n",
    "    2021-09-21 14:56:09.659 : Starting \"rtgx Trees/ppp_0.tree\", stdout=rtgx_ppp_0.tree.log0_0, stderr=rtgx_ppp_0.tree.err0_0\n",
    "    2021-09-21 14:56:20.554 : Finished \"rtgx Trees/ppp_0.tree\", stdout=rtgx_ppp_0.tree.log0_0, stderr=rtgx_ppp_0.tree.err0_0\n",
    "    2021-09-21 14:56:20.561 : gd2e.py finished\n",
    "    Elapsed run time: 0:00:24.331524\n",
    "</code>\n",
    "    \n",
    "You should actually read through this output it tells you a few important things: \n",
    "\n",
    "\n",
    " 0. The `Unexpected` lines are something system related and not real output of the program. \n",
    " 1. There's some data editing going on and the output and errors are logged to ```editData.log``` and ```editData.err```. \n",
    " 2. It fetches GNSS products for you (unless you specify yourself), it tells you that it got them from https://sideshow.jpl.nasa.gov/pub/JPL_GNSS_Products/Final (stored in the directory ```GNSSinitValues```. The output / errors from the position processing run are saved to ```rtgx_ppp_0.tree.log0_0``` and ```rtgx_ppp_0.tree.err0_0```, respectively. It's always good to check the error files to ensure all went well (It didn't if anything FATAL occurred).\n",
    "\n",
    "After this run, your directory will now contain many files! A listing should look like this:\n",
    "\n",
    "<code style=\"background-color:#FFFFFF;font-size:smaller;\">\n",
    "\t$ ls\n",
    "    AC13.gde.debug.tree  gde.tree                   rtgx_ppp_0.tree.log0_0\n",
    "    AC13.gde.stats       GEOS669-Lab4.ipynb         runAgain\n",
    "    allStations.xyz      GNSSinitValues             smooth0_0.tdp\n",
    "    ambres.stats         gnssList.txt               smoothFinal.cov\n",
    "    constraints.txt      postfitResiduals.out       smoothFinal.tdp\n",
    "    dataRecordFile.gz    preamb_final.pos           stations.txt\n",
    "    debug.tree           preamb_finalResiduals.out  Summary\n",
    "    editData.err         preamb_smooth0_0.tdp       Trees\n",
    "    editData.log         preamb_smoothFinal.cov     treesUsed\n",
    "    filter.tdp           prefitResiduals.out        y2021\n",
    "    final.pos            rinexStaDb\n",
    "    finalResiduals.out   rtgx_ppp_0.tree.err0_0\n",
    "</code>\n",
    " \n",
    " "
   ]
  },
  {
   "cell_type": "markdown",
   "metadata": {},
   "source": [
    "The file we're all interested in is `smoothFinal.tdp` which contains the final position solution. We'll get into that in a bit. First, have a look at `Trees/ppp_0.tree` (use `less` or something like it). This is the full configuration file for the PPP run! At the beginning you will see that the satellite orbit files are set (`GNSSORB_POS`, which antenna phase center correction file is to be used (`GNSSXYZ_FILE`), that we're not applying ocean load corrections in this run (`OCEANLOAD`) (more about that next time) and so forth. Even if the syntax may be a bit odd, if you read a bit you could get a sense for what's going on here.\n",
    "\n",
    "Another important file that was created is `rinexStaDb`. Have a look! It's a database that contains five lines, `KEYWORDS`, `ID`, `STATE`, `ANT`, `RX`. The first line defines in which order the keyword lines are to be expected. The following 4 lines identify the database record in the first column (AC13), tell us its ```ID``` is AC13 (duh!), its `STATE` refers to its position in XYZ (ECEF) coordinates. Copy the three numbers that end in e+06 and convert it to latitude, longitude, height by adding that text to the end of this command:\n",
    "\n",
    "```\n",
    "xyz2llh.py -xyz\n",
    "```\n",
    "\t\n",
    "**Copy the command as you ran it and its output into the lab report. Add a map (maybe Google Earth) showing the location of the station. Where is it?**"
   ]
  },
  {
   "cell_type": "markdown",
   "metadata": {},
   "source": [
    "Write/Paste outout here:"
   ]
  },
  {
   "cell_type": "markdown",
   "metadata": {},
   "source": [
    "Add your map image into your Lab04 directory and use the code below to display your image:\n",
    "<img src=\"image.png\" width=\"50%\" />\n"
   ]
  },
  {
   "cell_type": "markdown",
   "metadata": {},
   "source": [
    "The remaining two lines in the `rinexStaDb` file contain information about the antenna type and the receiver. Remember that different antennas have different phase centers, so we better know which antenna was used. You will find that all this meta information in the `rinexStaDb` file came from the RINEX header information. Have a look if you want:\n",
    "\n",
    "```\n",
    "zcat  y2021/d201/ac132010.21d.Z | head -50\n",
    "```\n"
   ]
  },
  {
   "cell_type": "markdown",
   "metadata": {},
   "source": [
    "\n",
    "Alright, let's get at that precise position that came out of the processing:\n",
    "\n",
    "```\n",
    "tdp2llh.py -tdp smoothFinal.tdp | head -1\n",
    "```\n",
    "\t\n",
    "**Include this result in your report.**"
   ]
  },
  {
   "cell_type": "markdown",
   "metadata": {},
   "source": [
    "Results:"
   ]
  },
  {
   "cell_type": "markdown",
   "metadata": {},
   "source": [
    "This should be different from the result you got from ```xyz2llh.py``` before as this is the precise position. How different?\n",
    "\n",
    "```\n",
    "tdp2envDiff.py < smoothFinal.tdp\n",
    "```\n",
    "\t\n",
    "This shows us that the final position is 5.66 cm to the east, 13 cm to the south and 7.89 cm up from the original position. Let's use the more precise estimate as our starting position and add this to ```StaDB```:\n",
    "\n",
    "```\n",
    "grep AC13.State.Pos smoothFinal.tdp | head -3\n",
    "```\n",
    "\t\n",
    "These are the last three lines of the final position solution that give us a position estimate for station AC13. One line for X,Y,Z component each. The first column is the time in seconds past Jan. 1, 2000 UTC (you can use the program `sec2date` to convert this value to something that's more easily digestible, e.g. `sec2date 615384000` yields `2019-07-03 00:00:00`). The second column is the nominal value, this should be the same as in `rinexStaDb`. The third column is the actual value, i.e. the new position. Fourth and fifth column are sigma and id, respectively. **Copy the values from the third column into the correct positions in `rinexStaDB` of the `STATE` variable (there X is 5, Y is 6 and Z is 7th columns).** To make sure you're not losing your edits, rename the station database:\n",
    "\n",
    "```\n",
    "cp rinexStaDb myStaDb\n",
    "```\n",
    "\t\n",
    "We will make use of this next time (when processing rinex files directly, `gd2e.py` will always create its own new `rinexStaDb` file from the rinex headers and ignore the one you may give to it.)\n",
    "\n"
   ]
  },
  {
   "cell_type": "markdown",
   "metadata": {},
   "source": [
    "# A more involved example - time series\n",
    "\n",
    "We'll now try to generate a time series. Download rinex files for the station we just processed one day for from June 20th to August 20, 2021. Adjust the call we used above accordingly. This will take a while. Add the call you use to download the data to your report. Eventually, the output should show: 61 daily files downloaded of 124 found on unavco and\n",
    "<code style=\"background-color:#FFFFFF;font-size:smaller;\">\n",
    "\n",
    "    $ ls -d y2021/*\n",
    "    y2021/d171  y2021/d178  y2021/d185  y2021/d192  y2021/d199  y2021/d206  y2021/d213  y2021/d220  y2021/d227\n",
    "    y2021/d172  y2021/d179  y2021/d186  y2021/d193  y2021/d200  y2021/d207  y2021/d214  y2021/d221  y2021/d228\n",
    "    y2021/d173  y2021/d180  y2021/d187  y2021/d194  y2021/d201  y2021/d208  y2021/d215  y2021/d222  y2021/d229\n",
    "    y2021/d174  y2021/d181  y2021/d188  y2021/d195  y2021/d202  y2021/d209  y2021/d216  y2021/d223  y2021/d230\n",
    "    y2021/d175  y2021/d182  y2021/d189  y2021/d196  y2021/d203  y2021/d210  y2021/d217  y2021/d224  y2021/d231\n",
    "    y2021/d176  y2021/d183  y2021/d190  y2021/d197  y2021/d204  y2021/d211  y2021/d218  y2021/d225  y2021/d232\n",
    "    y2021/d177  y2021/d184  y2021/d191  y2021/d198  y2021/d205  y2021/d212  y2021/d219  y2021/d226\n",
    "\n",
    "</code>\n",
    "    \n",
    "Now process all these days with `gd2e.py` (see above). After the run, make sure you save the `smoothFinal.tdp` contents. Do this:\n",
    "\n",
    "```\n",
    "cp smoothFinal.tdp DATE.tdp\n",
    "```\n",
    "\t\n",
    "where you replace `DATE` with the date of the file you just processed.\n",
    "\n",
    "This processing can be easily automated using a `for` loop in the bash shell environment. If you know how to do that, go ahead. Else, process each file individually and work on your report in between processing calls. Don't forget to save the daily result!\n",
    "\n",
    "Once this is done, plot it as a time series in east north and vertical components (3 panels). For this, you will first need to extract a solution for each day and put this in a new file. Let's use the change in position from nominal. Use the second to last line from the `tdp2envDiff.py` output (again, this can be automated in a loop) and add this to a new file. **Note that the values are in cm.** You may use `sec2date` or another tool to convert the first column in this file to a more easily legible date.\n",
    "\n",
    "**Is the station moving? To where and by how much and on what day(s)? What happened at these time(s) in this region? (research!)**\n",
    "\n",
    "Summary: This is pretty straightforward GNSS processing. However, a few crucial things aren't treated well yet. That includes atmosphere, ocean loading, etc. Plus, it's pretty clumsy to do all of this by hand. What you'll do if you routinely process GNSS data from several stations that provide new data every day is decide on a processing strategy and then set up a few scripts that handle the downloading, preprocessing, analysis and time series updates. They can be run in an environment that triggers the processing pipeline at certain times of the day and -if all goes well- you have updated time series without doing much. Of course, there's always going to be something that will interfere with the ideal state, but still better than doing it all by hand ..."
   ]
  },
  {
   "cell_type": "code",
   "execution_count": null,
   "metadata": {},
   "outputs": [],
   "source": [
    "#Write your plotting script here:"
   ]
  },
  {
   "cell_type": "code",
   "execution_count": null,
   "metadata": {},
   "outputs": [],
   "source": []
  }
 ],
 "metadata": {
  "celltoolbar": "Tags",
  "kernelspec": {
   "display_name": "base",
   "language": "python",
   "name": "python3"
  },
  "language_info": {
   "codemirror_mode": {
    "name": "ipython",
    "version": 3
   },
   "file_extension": ".py",
   "mimetype": "text/x-python",
   "name": "python",
   "nbconvert_exporter": "python",
   "pygments_lexer": "ipython3",
   "version": "3.10.8"
  }
 },
 "nbformat": 4,
 "nbformat_minor": 4
}
