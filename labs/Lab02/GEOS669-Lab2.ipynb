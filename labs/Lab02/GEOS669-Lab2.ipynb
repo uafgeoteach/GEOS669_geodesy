{
 "cells": [
  {
   "cell_type": "markdown",
   "metadata": {},
   "source": [
    "\n",
    "<center><font size=5><b>GEOS 669 Geodetic Methods and Modeling</b></font></center>"
   ]
  },
  {
   "cell_type": "markdown",
   "metadata": {},
   "source": [
    "# Lab 2: Coordinate Conversions"
   ]
  },
  {
   "cell_type": "markdown",
   "metadata": {},
   "source": [
    "<b>Assignment Due Date: </b> September 20, 2023 </font>\n",
    "\n",
    "Today's lab will be focused on coordinate conversions.\n",
    "\n",
    "\n",
    "Your deliverable for this lab will be this notebook, with additional sections as outlined below. Please rename the notebook from `GEOS669-Lab2.ipynb` to `<last_name>_GEOS669-Lab2.ipynb`. For example, I (Emily Graves) would rename the notebook to `Graves_GEOS669-Lab2.ipynb`. You can do this by clicking on the filename in the top-left corner of this window (similar to, e.g., Google Docs). Download the completed file by checking its box in the JupyterHub file browser and selecting \"Download\" from the menu that appears or in the document's \"File\" menu under \"Download as\". Submit it to Canvas under the Lab 2 assignment **no later than 1pm September 20th**.\n",
    "\n"
   ]
  },
  {
   "cell_type": "markdown",
   "metadata": {},
   "source": [
    "### Exercise 1: Ellipsoid to ECEF coordinates\n",
    "\n",
    "We know that GPS coordinates are given in Earth-centered-Earth-fixed (ECEF) reference frame / coordinate system. However, those Cartesian coordinates are very hard to interpret and we need to be able to convert these back into ellipsoidal coordinates (and vice-versa). Today you'll be implementing two functions in this notebook that do exactly this. You will need these in the following labs for your conversions.\n",
    "\n",
    "For this exercise use the WGS84 ellipsoid definition:\n",
    "\n",
    "semi-major a = 6378137.0 m\n",
    "\n",
    "flattening f = 1/298.257223563\n",
    "\n",
    "semi-minor b = -f*a+a\n",
    "\n",
    "**The handout from Hoffmann-Wellenhof, 2nd Ed., that is available as PDF in the shared \"Documents\" folder, lays out the formulas. What you need to do is write some code that takes in arguments, applies the formulas, returns the results.**\n",
    "\n",
    "**Background:**\n",
    "\n",
    "some more general background on programming and functions in detail (see Sep 18 slides and code):\n",
    "\n",
    "http://www.grapenthin.org/teaching/geop501/\n",
    "\n",
    "Write a function that takes WGS84 latitude, longitude, and height (above the ellipsoid!) and returns cartesian X,Y,Z coordinates. The formulas given in the [handout](coordinate_transform_hofmann-wellenhof_etal.pdf) are fairly straightforward. **Note that you need to convert degrees to radians!**\n",
    "\n"
   ]
  },
  {
   "cell_type": "code",
   "execution_count": null,
   "metadata": {},
   "outputs": [],
   "source": [
    "#Write your function here:"
   ]
  },
  {
   "cell_type": "markdown",
   "metadata": {},
   "source": [
    "### Exercise 2: ECEF coordinates to Ellipsoid\n",
    "\n",
    "Write a function that takes ECEF cartesian coordinates X,Y,Z and returns WGS84 ellipsoid latitude, longitude, and height. I recommend to implement the iterative algorithm from the handouts! **Again, note that you'll need to convert radians to degrees!**\n",
    "\n"
   ]
  },
  {
   "cell_type": "code",
   "execution_count": null,
   "metadata": {},
   "outputs": [],
   "source": [
    "#Write your function here:"
   ]
  },
  {
   "cell_type": "markdown",
   "metadata": {},
   "source": [
    "### Test\n",
    "Note that this code will be utilized in future labs.\n",
    "\n",
    "Your code should convert between these ECEF and WGS84 coordinates for a GPS station on Okmok Volcano, Alaska:"
   ]
  },
  {
   "cell_type": "markdown",
   "metadata": {},
   "source": [
    "### Coordinates:\n",
    "<br/>\n",
    "\n",
    "| Lat/Lon/H      | XYZ |\n",
    "| :---------: | :---------: |\n",
    "|  53.426 | -3728069.2566048424 |\n",
    "|-168.166 | -781143.3649059328  |\n",
    "|530.074  | 5099360.02151769 |\n"
   ]
  },
  {
   "cell_type": "code",
   "execution_count": null,
   "metadata": {},
   "outputs": [],
   "source": [
    "#Write your test code for Ellipsoid to ECEF coordinates funtion here:"
   ]
  },
  {
   "cell_type": "code",
   "execution_count": null,
   "metadata": {},
   "outputs": [],
   "source": [
    "#Write your test code for ECEF coordinates to Ellipsoid funtion here:"
   ]
  },
  {
   "cell_type": "markdown",
   "metadata": {},
   "source": [
    "The GPS station is OKCE \n",
    "\n",
    "Open this [link](https://apps.avo.alaska.edu/geodesy/public) and click on the Okmok tab. On the right hand side, choose \"all\" data to look at the extended timeseries for the station. Discuss the timeseries, detailing your observations of deformation.\n",
    "\n",
    "\n",
    "**The timeseries are wrt DUTC (Dutch HArbor) to remove tectonics.**\n",
    "\n",
    "</font>\n",
    "\n"
   ]
  },
  {
   "cell_type": "code",
   "execution_count": null,
   "metadata": {},
   "outputs": [],
   "source": [
    "#Write your observations from the timeseries here:"
   ]
  },
  {
   "cell_type": "markdown",
   "metadata": {},
   "source": [
    "## Deliverables:\n",
    "\n",
    "**All code should be well-commented! All code should be straightforward to execute. If there's anything I need to know about running this, please include a comment at the beginnning of the function.**\n",
    "\n",
    "**The two functions that do the conversion**\n",
    "\n",
    "**Code that uses these two function to test them (ECEF->WGS84), (WGS84->ECEF) on the coordinates above**\n",
    "\n",
    "**And discussion of the deformation at OKCE.**\n"
   ]
  },
  {
   "cell_type": "code",
   "execution_count": null,
   "metadata": {},
   "outputs": [],
   "source": []
  }
 ],
 "metadata": {
  "celltoolbar": "Tags",
  "kernelspec": {
   "display_name": "base",
   "language": "python",
   "name": "python3"
  },
  "language_info": {
   "codemirror_mode": {
    "name": "ipython",
    "version": 3
   },
   "file_extension": ".py",
   "mimetype": "text/x-python",
   "name": "python",
   "nbconvert_exporter": "python",
   "pygments_lexer": "ipython3",
   "version": "3.10.8"
  }
 },
 "nbformat": 4,
 "nbformat_minor": 4
}
