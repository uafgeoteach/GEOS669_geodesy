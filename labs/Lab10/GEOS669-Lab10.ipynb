{
 "cells": [
  {
   "cell_type": "markdown",
   "metadata": {
    "hideCode": false,
    "hidePrompt": false
   },
   "source": [
    "<center><font size=6><b>GEOS 669 Geodetic Methods and Modeling</b></font></center>"
   ]
  },
  {
   "cell_type": "markdown",
   "metadata": {
    "hideCode": false,
    "hidePrompt": false
   },
   "source": [
    "# Lab 10: Volcano Deformation"
   ]
  },
  {
   "cell_type": "markdown",
   "metadata": {
    "hideCode": false,
    "hidePrompt": false
   },
   "source": [
    "### Introduction\n",
    "\n",
    "Today you will use some co-eruptive displacements from Redoubt volcano's 2009 eruption and hopefully learn a bit about its source. You will do 2 things: (1) implement the Mogi model, (2) find the best source parameters given the displacements.\n",
    "\n",
    "Caveats:\n",
    "\n",
    "(1) [I've already shown](http://www.grapenthin.org/download/Grapenthin_etal2012_Redoubt.pdf) that the Mogi source isn't the best model for the co-eruptive phase. We'll use it anyway for the data, because it's a simple model, and we're here to learn the methods.\n",
    "\n",
    "(2) The method I'll have you implement to solve for the non-linear parts is inefficient and imprecise. Again, it's one way to gain an intuition to find solutions to these problems; you should embark on a journey to learn about the many efficient non-linear methods / solvers that are out there yourself; often they take a parameter range in which they do their magic, which reduces to a single function call. Using this wouldn't result in much learning in a lab.\n",
    "\n",
    "I bring up these points to make sure you don't assume the methods used here are the ones you should use for the rest of your career; far from it! They're a starting point."
   ]
  },
  {
   "cell_type": "markdown",
   "metadata": {
    "hideCode": false,
    "hidePrompt": false
   },
   "source": [
    "### The Forward Model\n",
    "\n",
    "First, start out with implementing a function `dr, dz = mogi(x,y,d,C)`, which - given a set of distances (`x`,`y`) in Carthesian coordinates away from a source location, a source depth `d` and a source strength `C` - returns radial and horizontal displacements at these points according to the Mogi model (check slides for formulas).\n",
    "\n",
    "You can test your model with these values:\n",
    "\n",
    "\n",
    "```\n",
    "mogi(    np.array([1000, -1000, 2000, 0]).reshape(4,1), \n",
    "         np.array([1000, -1000, 2000, 0]).reshape(4,1), \n",
    "         17000, \n",
    "         (0.75*0.05*pow(1000,3))/np.pi\n",
    "    )\n",
    "\n",
    "dr =\n",
    "\n",
    "   0.003400610640462\n",
    "   0.003400610640462\n",
    "   0.006596168094920\n",
    "                   0\n",
    "\n",
    "\n",
    "dz =\n",
    "\n",
    "   0.040878112348779\n",
    "   0.040878112348779\n",
    "   0.039645659112996\n",
    "   0.041303185923502\t\t\t\n",
    "```\n",
    "\n",
    "The `x`,`y` distances are in meters away from a source at 17 km depth that changes in volume by 0.05 km3. **What are the units of `dr`, `dz`?**"
   ]
  },
  {
   "cell_type": "code",
   "execution_count": 1,
   "metadata": {},
   "outputs": [],
   "source": [
    "import numpy as np"
   ]
  },
  {
   "cell_type": "code",
   "execution_count": 2,
   "metadata": {
    "hideCode": false,
    "hidePrompt": false
   },
   "outputs": [],
   "source": [
    "#write your mogi function here"
   ]
  },
  {
   "cell_type": "code",
   "execution_count": 3,
   "metadata": {
    "hideCode": false,
    "hidePrompt": false
   },
   "outputs": [],
   "source": [
    "#check your mogi funtion here"
   ]
  },
  {
   "cell_type": "markdown",
   "metadata": {},
   "source": [
    "**Answer the question here:**\n"
   ]
  },
  {
   "cell_type": "markdown",
   "metadata": {},
   "source": [
    "### The \"Inverse\" Model\n",
    "\n",
    "Below we create a matrix `displacements`; its contents is described in the comments and a vector `volcano` which contains in UTM coordinates (meters) the location of the volcano.\n",
    "\n",
    "The network setup is shown in the figure here:\n",
    "\n",
    "<img src=\"redoubt.png\" style=\"float:center\" width=\"50%\"/>\n"
   ]
  },
  {
   "cell_type": "code",
   "execution_count": 6,
   "metadata": {},
   "outputs": [],
   "source": [
    "#Assemble the displacements maxtrix\n",
    "#station = [UTM-E (m) UTM-N (m) ur (cm)  uz (cm)]\n",
    "AC17 = [532583.0, 6725499.7, -0.65, -0.39]\n",
    "DUMM = [518386.5, 6716046.4, -1.10, -1.65]\n",
    "RBED = [514033.1, 6701953.2, -0.64, -2.63]\n",
    "RVBM = [508593.5, 6705638.3, -0.68, -2.59]\n",
    "\n",
    "displacements = np.vstack((AC17, DUMM, RBED, RVBM))\n",
    "\n",
    "#create the volcano vector\n",
    "#UTM location of Redoubt volcano\n",
    "volcano = [513081.0, 6705989.0]"
   ]
  },
  {
   "cell_type": "markdown",
   "metadata": {},
   "source": [
    "Write a script that searches within +/-10 km of the volcano's location, within a depth range of, say, 40 km for a Mogi source. Note that the Mogi model is non-linear with respect to location and hence you'll need to come up with a non-linear solution scheme. I'd recommend you do a grid search in 1 km intervals through your model domain. You can invert for your source strength `C` using least-squares since the model is linear in that parameter.\n",
    "\n",
    "To repeat, this is not the best way to solve this problem, but it provides considerable intuition as to what more sophisticated methods might be after.\n",
    "\n",
    "**Hints**\n",
    "\n",
    "A few things you need to do (Test each step individually! Do not try to slay the entire beast in one fell swoop!):\n",
    "\n",
    "- setup your data vector concatenating `ur`, `uz` in correct units\n",
    "- turn the global coordinates of the stations to radial distances with respect to the volcano location (subtract volcano location)\n",
    "- set a new variable `current_resid_norm=np.Inf`\n",
    "- write loops to iterate over `x`, `y`, depth `d`\n",
    "- set up your design matrix `G` to solve for `C` in the innermost loop (depends on `r`, `d`)\n",
    "- invert for `C` - the source strength\n",
    "- compute the forward model using the `mogi` function you've written before. The parameter values for this function call will be the `x`,`y`,`d` values from the triple loop you are in. `C` will come from the least squares solution just calculated.\n",
    "- calculate the norm of the residual vector\n",
    "- if your new norm is better than any of the previous norms, save your current model parameters in variables, say, `best_x`, `best_y`, `best_d`, `best_C`; save this currently best `norm in current_resid_norm`\n",
    "\n",
    "**What is the expected source depth and the volume change of the magma reservoir (convert from source strength to volume (see lecture slides and above)!)? Give these values in sensible units. Compare and discuss the radial and vertical displacement observations and the results you'd get from the Mogi model with your best fitting model residuals.**\n",
    "\n"
   ]
  },
  {
   "cell_type": "code",
   "execution_count": 7,
   "metadata": {},
   "outputs": [],
   "source": [
    "#write your script here:"
   ]
  },
  {
   "cell_type": "markdown",
   "metadata": {},
   "source": [
    "**Answer the questions here:**\n"
   ]
  },
  {
   "cell_type": "code",
   "execution_count": null,
   "metadata": {},
   "outputs": [],
   "source": []
  }
 ],
 "metadata": {
  "celltoolbar": "Tags",
  "hide_code_all_hidden": false,
  "kernelspec": {
   "display_name": "Python 3",
   "language": "python",
   "name": "python3"
  },
  "language_info": {
   "codemirror_mode": {
    "name": "ipython",
    "version": 3
   },
   "file_extension": ".py",
   "mimetype": "text/x-python",
   "name": "python",
   "nbconvert_exporter": "python",
   "pygments_lexer": "ipython3",
   "version": "3.8.6"
  }
 },
 "nbformat": 4,
 "nbformat_minor": 4
}
