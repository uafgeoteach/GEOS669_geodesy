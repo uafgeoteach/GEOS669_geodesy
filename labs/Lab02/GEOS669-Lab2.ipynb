{
 "cells": [
  {
   "cell_type": "markdown",
   "metadata": {},
   "source": [
    "<img src=\"MCMD.png\" width=\"50%\" />\n",
    "<div width=\"100%\" align=\"right\"><font size=2>https://www.researchgate.net/figure/Landsat-image-mosaic-of-Antarctica-LIMA-Bindschadler-et-al-2008-map-of-the-central_fig1_318379509</font></div>\n",
    "<br/>\n",
    "<center><font size=6><b>GEOS 669 Geodetic Methods and Modeling</b></font></center>"
   ]
  },
  {
   "cell_type": "markdown",
   "metadata": {},
   "source": [
    "# Lab 2: Coordinate Conversions"
   ]
  },
  {
   "cell_type": "markdown",
   "metadata": {},
   "source": [
    "<b>Assignment Due Date: </b> September 15, 2021 </font>\n",
    "\n",
    "Today's lab will be focused on coordinate conversions.\n",
    "\n",
    "\n",
    "Your deliverable for this lab will be this notebook, with additional sections as outlined below. Please rename the notebook from `GEOS669-Lab2.ipynb` to `<last_name>_GEOS669-Lab2.ipynb`. For example, I (Emily Graves) would rename the notebook to `Graves_GEOS669-Lab2.ipynb`. You can do this by clicking on the filename in the top-left corner of this window (similar to, e.g., Google Docs). Download the completed file by checking its box in the JupyterHub file browser and selecting \"Download\" from the menu that appears or in the document's \"File\" menu under \"Download as\". Submit it to Canvas under the Lab 2 assignment **no later than 1pm September 15th**.\n",
    "\n"
   ]
  },
  {
   "cell_type": "markdown",
   "metadata": {},
   "source": [
    "### Exercise 1: Ellipsoid to ECEF coordinates\n",
    "\n",
    "We know that GPS coordinates are given in Earth-centered-Earth-fixed (ECEF) reference frame / coordinate system. However, those Cartesian coordinates are very hard to interpret and we need to be able to convert these back into ellipsoidal coordinates (and vice-versa). Today you'll be implementing two functions in this notebook that do exactly this. You will need these in the following labs for your conversions.\n",
    "\n",
    "For this exercise use the WGS84 ellipsoid definition:\n",
    "\n",
    "semi-major a = 6378137.0 m\n",
    "\n",
    "flattening f = 1/298.257223563\n",
    "\n",
    "semi-minor b = -f*a+a\n",
    "\n",
    "**The handout from Hoffmann-Wellenhof, 2nd Ed., that is available as PDF in the shared \"Documents\" folder, lays out the formulas. What you need to do is write some code that takes in arguments, applies the formulas, returns the results.**\n",
    "\n",
    "**Background:**\n",
    "\n",
    "some more general background on programming and functions in detail (see Sep 18 slides and code):\n",
    "\n",
    "http://www.grapenthin.org/teaching/geop501/\n",
    "\n",
    "Write a function that takes WGS84 latitude, longitude, and height (above the ellipsoid!) and returns cartesian X,Y,Z coordinates. The formulas given in the handout are fairly straightforward. **Note that you need to convert degrees to radians!**\n",
    "\n"
   ]
  },
  {
   "cell_type": "code",
   "execution_count": null,
   "metadata": {},
   "outputs": [],
   "source": [
    "#Write your function here:"
   ]
  },
  {
   "cell_type": "markdown",
   "metadata": {},
   "source": [
    "### Exercise 2: ECEF coordinates to Ellipsoid\n",
    "\n",
    "Write a function that takes ECEF cartesian coordinates X,Y,Z and returns WGS84 ellipsoid latitude, longitude, and height. I recommend to implement the iterative algorithm from the handouts! **Again, note that you'll need to convert radians to degrees!**\n",
    "\n"
   ]
  },
  {
   "cell_type": "code",
   "execution_count": null,
   "metadata": {},
   "outputs": [],
   "source": [
    "#Write your function here:"
   ]
  },
  {
   "cell_type": "markdown",
   "metadata": {},
   "source": [
    "### Test\n",
    "\n",
    "Your code should convert between these ECEF and WGS84 coordinates for a GPS station in McMurdo, Antarctica station:"
   ]
  },
  {
   "cell_type": "markdown",
   "metadata": {},
   "source": [
    "<img src=\"coordinates.png\" width=\"80%\" />\n",
    "<br/>"
   ]
  },
  {
   "cell_type": "markdown",
   "metadata": {},
   "source": [
    "The GPS station is MCMD. I grabbed the approximate XYZ coordinates from a receiver file (rinex) from 2014-12-31. This is by no means its precise position.\n",
    "\n",
    "Note that this code will be utilized in future labs.\n",
    "\n",
    "</font>\n",
    "\n"
   ]
  },
  {
   "cell_type": "code",
   "execution_count": null,
   "metadata": {},
   "outputs": [],
   "source": [
    "#Write your test code for Ellipsoid to ECEF coordinates funtion here:"
   ]
  },
  {
   "cell_type": "code",
   "execution_count": null,
   "metadata": {},
   "outputs": [],
   "source": [
    "#Write your test code for ECEF coordinates to Ellipsoid funtion here:"
   ]
  },
  {
   "cell_type": "markdown",
   "metadata": {},
   "source": [
    "## Deliverables:\n",
    "\n",
    "**All code should be well-commented! All code should be straightforward to execute. If there's anything I need to know about running this, please include a comment at the beginnning of the function.**\n",
    "\n",
    "**The two functions that do the conversion**\n",
    "\n",
    "**Code that uses these two function to test them (ECEF->WGS84), (WGS84->ECEF) on the coordinates above.**\n"
   ]
  }
 ],
 "metadata": {
  "celltoolbar": "Tags",
  "kernelspec": {
   "display_name": "Python 3",
   "language": "python",
   "name": "python3"
  },
  "language_info": {
   "codemirror_mode": {
    "name": "ipython",
    "version": 3
   },
   "file_extension": ".py",
   "mimetype": "text/x-python",
   "name": "python",
   "nbconvert_exporter": "python",
   "pygments_lexer": "ipython3",
   "version": "3.8.6"
  }
 },
 "nbformat": 4,
 "nbformat_minor": 4
}
